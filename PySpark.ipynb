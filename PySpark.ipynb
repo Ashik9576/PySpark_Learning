{
  "nbformat": 4,
  "nbformat_minor": 0,
  "metadata": {
    "colab": {
      "name": "PySpark.ipynb",
      "provenance": [],
      "collapsed_sections": [],
      "authorship_tag": "ABX9TyPZM6Xk4fUQFntBlEHO/Wrw",
      "include_colab_link": true
    },
    "kernelspec": {
      "name": "python3",
      "display_name": "Python 3"
    },
    "language_info": {
      "name": "python"
    }
  },
  "cells": [
    {
      "cell_type": "markdown",
      "metadata": {
        "id": "view-in-github",
        "colab_type": "text"
      },
      "source": [
        "<a href=\"https://colab.research.google.com/github/Ashik9576/PySpark_Learning/blob/main/PySpark.ipynb\" target=\"_parent\"><img src=\"https://colab.research.google.com/assets/colab-badge.svg\" alt=\"Open In Colab\"/></a>"
      ]
    },
    {
      "cell_type": "markdown",
      "source": [
        "# **PySpark Installation**"
      ],
      "metadata": {
        "id": "7-K7E83ygOwe"
      }
    },
    {
      "cell_type": "code",
      "source": [
        "#installing pyspark\n",
        "!pip install pyspark"
      ],
      "metadata": {
        "colab": {
          "base_uri": "https://localhost:8080/"
        },
        "id": "3cl3QnASgWjC",
        "outputId": "a2358372-1aa4-4acf-b91a-4aa4b7fc9612"
      },
      "execution_count": null,
      "outputs": [
        {
          "output_type": "stream",
          "name": "stdout",
          "text": [
            "Collecting pyspark\n",
            "  Downloading pyspark-3.2.1.tar.gz (281.4 MB)\n",
            "\u001b[K     |████████████████████████████████| 281.4 MB 33 kB/s \n",
            "\u001b[?25hCollecting py4j==0.10.9.3\n",
            "  Downloading py4j-0.10.9.3-py2.py3-none-any.whl (198 kB)\n",
            "\u001b[K     |████████████████████████████████| 198 kB 53.2 MB/s \n",
            "\u001b[?25hBuilding wheels for collected packages: pyspark\n",
            "  Building wheel for pyspark (setup.py) ... \u001b[?25l\u001b[?25hdone\n",
            "  Created wheel for pyspark: filename=pyspark-3.2.1-py2.py3-none-any.whl size=281853642 sha256=c04277c14c510baf0be36c3a75684719792abd35ff66cc3d7479554743cc911d\n",
            "  Stored in directory: /root/.cache/pip/wheels/9f/f5/07/7cd8017084dce4e93e84e92efd1e1d5334db05f2e83bcef74f\n",
            "Successfully built pyspark\n",
            "Installing collected packages: py4j, pyspark\n",
            "Successfully installed py4j-0.10.9.3 pyspark-3.2.1\n"
          ]
        }
      ]
    },
    {
      "cell_type": "code",
      "source": [
        "import pyspark"
      ],
      "metadata": {
        "id": "BCnqlvoogfUX"
      },
      "execution_count": null,
      "outputs": []
    },
    {
      "cell_type": "code",
      "source": [
        "# mounted the drive\n",
        "from google.colab import drive\n",
        "drive.mount('/content/drive')"
      ],
      "metadata": {
        "colab": {
          "base_uri": "https://localhost:8080/"
        },
        "id": "VmJIbU4FhOKx",
        "outputId": "3b5d9b67-8708-4451-a5e0-e431c4aeb0a0"
      },
      "execution_count": null,
      "outputs": [
        {
          "output_type": "stream",
          "name": "stdout",
          "text": [
            "Mounted at /content/drive\n"
          ]
        }
      ]
    },
    {
      "cell_type": "code",
      "source": [
        "import pandas as pd\n",
        "df=pd.read_csv(\"/content/drive/MyDrive/Pyspark/counties.csv\")"
      ],
      "metadata": {
        "id": "2mYL1hz0glhl"
      },
      "execution_count": null,
      "outputs": []
    },
    {
      "cell_type": "code",
      "source": [
        "df.columns=['Name','ID']"
      ],
      "metadata": {
        "id": "Dzy3RrJdh8sU"
      },
      "execution_count": null,
      "outputs": []
    },
    {
      "cell_type": "code",
      "source": [
        "df.head()"
      ],
      "metadata": {
        "id": "RZUrkIbnh_GI",
        "colab": {
          "base_uri": "https://localhost:8080/",
          "height": 206
        },
        "outputId": "8f5c7098-6aeb-419c-f45f-73cb257aaf37"
      },
      "execution_count": null,
      "outputs": [
        {
          "output_type": "execute_result",
          "data": {
            "text/plain": [
              "        Name     ID\n",
              "0      Adams   4029\n",
              "1  Allamakee  14330\n",
              "2  Appanoose  12884\n",
              "3    Audubon   6119\n",
              "4     Benton  26076"
            ],
            "text/html": [
              "\n",
              "  <div id=\"df-44e80c76-d14e-41fd-ab24-a1bf947e1799\">\n",
              "    <div class=\"colab-df-container\">\n",
              "      <div>\n",
              "<style scoped>\n",
              "    .dataframe tbody tr th:only-of-type {\n",
              "        vertical-align: middle;\n",
              "    }\n",
              "\n",
              "    .dataframe tbody tr th {\n",
              "        vertical-align: top;\n",
              "    }\n",
              "\n",
              "    .dataframe thead th {\n",
              "        text-align: right;\n",
              "    }\n",
              "</style>\n",
              "<table border=\"1\" class=\"dataframe\">\n",
              "  <thead>\n",
              "    <tr style=\"text-align: right;\">\n",
              "      <th></th>\n",
              "      <th>Name</th>\n",
              "      <th>ID</th>\n",
              "    </tr>\n",
              "  </thead>\n",
              "  <tbody>\n",
              "    <tr>\n",
              "      <th>0</th>\n",
              "      <td>Adams</td>\n",
              "      <td>4029</td>\n",
              "    </tr>\n",
              "    <tr>\n",
              "      <th>1</th>\n",
              "      <td>Allamakee</td>\n",
              "      <td>14330</td>\n",
              "    </tr>\n",
              "    <tr>\n",
              "      <th>2</th>\n",
              "      <td>Appanoose</td>\n",
              "      <td>12884</td>\n",
              "    </tr>\n",
              "    <tr>\n",
              "      <th>3</th>\n",
              "      <td>Audubon</td>\n",
              "      <td>6119</td>\n",
              "    </tr>\n",
              "    <tr>\n",
              "      <th>4</th>\n",
              "      <td>Benton</td>\n",
              "      <td>26076</td>\n",
              "    </tr>\n",
              "  </tbody>\n",
              "</table>\n",
              "</div>\n",
              "      <button class=\"colab-df-convert\" onclick=\"convertToInteractive('df-44e80c76-d14e-41fd-ab24-a1bf947e1799')\"\n",
              "              title=\"Convert this dataframe to an interactive table.\"\n",
              "              style=\"display:none;\">\n",
              "        \n",
              "  <svg xmlns=\"http://www.w3.org/2000/svg\" height=\"24px\"viewBox=\"0 0 24 24\"\n",
              "       width=\"24px\">\n",
              "    <path d=\"M0 0h24v24H0V0z\" fill=\"none\"/>\n",
              "    <path d=\"M18.56 5.44l.94 2.06.94-2.06 2.06-.94-2.06-.94-.94-2.06-.94 2.06-2.06.94zm-11 1L8.5 8.5l.94-2.06 2.06-.94-2.06-.94L8.5 2.5l-.94 2.06-2.06.94zm10 10l.94 2.06.94-2.06 2.06-.94-2.06-.94-.94-2.06-.94 2.06-2.06.94z\"/><path d=\"M17.41 7.96l-1.37-1.37c-.4-.4-.92-.59-1.43-.59-.52 0-1.04.2-1.43.59L10.3 9.45l-7.72 7.72c-.78.78-.78 2.05 0 2.83L4 21.41c.39.39.9.59 1.41.59.51 0 1.02-.2 1.41-.59l7.78-7.78 2.81-2.81c.8-.78.8-2.07 0-2.86zM5.41 20L4 18.59l7.72-7.72 1.47 1.35L5.41 20z\"/>\n",
              "  </svg>\n",
              "      </button>\n",
              "      \n",
              "  <style>\n",
              "    .colab-df-container {\n",
              "      display:flex;\n",
              "      flex-wrap:wrap;\n",
              "      gap: 12px;\n",
              "    }\n",
              "\n",
              "    .colab-df-convert {\n",
              "      background-color: #E8F0FE;\n",
              "      border: none;\n",
              "      border-radius: 50%;\n",
              "      cursor: pointer;\n",
              "      display: none;\n",
              "      fill: #1967D2;\n",
              "      height: 32px;\n",
              "      padding: 0 0 0 0;\n",
              "      width: 32px;\n",
              "    }\n",
              "\n",
              "    .colab-df-convert:hover {\n",
              "      background-color: #E2EBFA;\n",
              "      box-shadow: 0px 1px 2px rgba(60, 64, 67, 0.3), 0px 1px 3px 1px rgba(60, 64, 67, 0.15);\n",
              "      fill: #174EA6;\n",
              "    }\n",
              "\n",
              "    [theme=dark] .colab-df-convert {\n",
              "      background-color: #3B4455;\n",
              "      fill: #D2E3FC;\n",
              "    }\n",
              "\n",
              "    [theme=dark] .colab-df-convert:hover {\n",
              "      background-color: #434B5C;\n",
              "      box-shadow: 0px 1px 3px 1px rgba(0, 0, 0, 0.15);\n",
              "      filter: drop-shadow(0px 1px 2px rgba(0, 0, 0, 0.3));\n",
              "      fill: #FFFFFF;\n",
              "    }\n",
              "  </style>\n",
              "\n",
              "      <script>\n",
              "        const buttonEl =\n",
              "          document.querySelector('#df-44e80c76-d14e-41fd-ab24-a1bf947e1799 button.colab-df-convert');\n",
              "        buttonEl.style.display =\n",
              "          google.colab.kernel.accessAllowed ? 'block' : 'none';\n",
              "\n",
              "        async function convertToInteractive(key) {\n",
              "          const element = document.querySelector('#df-44e80c76-d14e-41fd-ab24-a1bf947e1799');\n",
              "          const dataTable =\n",
              "            await google.colab.kernel.invokeFunction('convertToInteractive',\n",
              "                                                     [key], {});\n",
              "          if (!dataTable) return;\n",
              "\n",
              "          const docLinkHtml = 'Like what you see? Visit the ' +\n",
              "            '<a target=\"_blank\" href=https://colab.research.google.com/notebooks/data_table.ipynb>data table notebook</a>'\n",
              "            + ' to learn more about interactive tables.';\n",
              "          element.innerHTML = '';\n",
              "          dataTable['output_type'] = 'display_data';\n",
              "          await google.colab.output.renderOutput(dataTable, element);\n",
              "          const docLink = document.createElement('div');\n",
              "          docLink.innerHTML = docLinkHtml;\n",
              "          element.appendChild(docLink);\n",
              "        }\n",
              "      </script>\n",
              "    </div>\n",
              "  </div>\n",
              "  "
            ]
          },
          "metadata": {},
          "execution_count": 6
        }
      ]
    },
    {
      "cell_type": "markdown",
      "source": [
        "# **Reading file in Spark**\n"
      ],
      "metadata": {
        "id": "2cwUfSOlix7u"
      }
    },
    {
      "cell_type": "markdown",
      "source": [
        "**firstly I have to creat a spark session**"
      ],
      "metadata": {
        "id": "4nb_zNKLi_tE"
      }
    },
    {
      "cell_type": "code",
      "source": [
        "from pyspark.sql import SparkSession"
      ],
      "metadata": {
        "id": "v7He9fk9ivF8"
      },
      "execution_count": null,
      "outputs": []
    },
    {
      "cell_type": "code",
      "source": [
        "spark=SparkSession.builder.appName('Ashik').getOrCreate()"
      ],
      "metadata": {
        "id": "WASytNkDjVhN"
      },
      "execution_count": null,
      "outputs": []
    },
    {
      "cell_type": "code",
      "source": [
        "spark"
      ],
      "metadata": {
        "colab": {
          "base_uri": "https://localhost:8080/",
          "height": 219
        },
        "id": "jytvsKAojrBv",
        "outputId": "dfe6a8f9-9bcc-4af9-9d33-82aa32f3c469"
      },
      "execution_count": null,
      "outputs": [
        {
          "output_type": "execute_result",
          "data": {
            "text/plain": [
              "<pyspark.sql.session.SparkSession at 0x7f31d51d92d0>"
            ],
            "text/html": [
              "\n",
              "            <div>\n",
              "                <p><b>SparkSession - in-memory</b></p>\n",
              "                \n",
              "        <div>\n",
              "            <p><b>SparkContext</b></p>\n",
              "\n",
              "            <p><a href=\"http://94706f10dc5d:4040\">Spark UI</a></p>\n",
              "\n",
              "            <dl>\n",
              "              <dt>Version</dt>\n",
              "                <dd><code>v3.2.1</code></dd>\n",
              "              <dt>Master</dt>\n",
              "                <dd><code>local[*]</code></dd>\n",
              "              <dt>AppName</dt>\n",
              "                <dd><code>Ashik</code></dd>\n",
              "            </dl>\n",
              "        </div>\n",
              "        \n",
              "            </div>\n",
              "        "
            ]
          },
          "metadata": {},
          "execution_count": 9
        }
      ]
    },
    {
      "cell_type": "code",
      "source": [
        "df_spark=spark.read.csv(\"/content/drive/MyDrive/Pyspark/counties.csv\")"
      ],
      "metadata": {
        "id": "cTRLinpSjvD0"
      },
      "execution_count": null,
      "outputs": []
    },
    {
      "cell_type": "code",
      "source": [
        "df_spark.show()"
      ],
      "metadata": {
        "colab": {
          "base_uri": "https://localhost:8080/"
        },
        "id": "q4l7hR2Hj_5V",
        "outputId": "f19a7c31-4ea4-45a3-bff8-d183bac4eb80"
      },
      "execution_count": null,
      "outputs": [
        {
          "output_type": "stream",
          "name": "stdout",
          "text": [
            "+-----------+------+\n",
            "|        _c0|   _c1|\n",
            "+-----------+------+\n",
            "|      Adair|  7682|\n",
            "|      Adams|  4029|\n",
            "|  Allamakee| 14330|\n",
            "|  Appanoose| 12884|\n",
            "|    Audubon|  6119|\n",
            "|     Benton| 26076|\n",
            "| Black Hawk|131090|\n",
            "|      Boone| 26306|\n",
            "|     Bremer| 24276|\n",
            "|   Buchanan| 20958|\n",
            "|Buena Vista| 20260|\n",
            "|     Butler| 14867|\n",
            "|    Calhoun|  9670|\n",
            "|    Carroll| 20816|\n",
            "|       Cass| 13956|\n",
            "|      Cedar| 18499|\n",
            "|Cerro Gordo| 44151|\n",
            "|   Cherokee| 12072|\n",
            "|  Chickasaw| 12439|\n",
            "|     Clarke|  9286|\n",
            "+-----------+------+\n",
            "only showing top 20 rows\n",
            "\n"
          ]
        }
      ]
    },
    {
      "cell_type": "markdown",
      "source": [
        "# **Changing the columns name**"
      ],
      "metadata": {
        "id": "EKmyqpxNyCJI"
      }
    },
    {
      "cell_type": "code",
      "source": [
        "df_spark=df_spark.withColumnRenamed(\"_c0\",\"Name\")\\\n",
        " .withColumnRenamed(\"_c1\",\"ID\")"
      ],
      "metadata": {
        "id": "iyRVoIkrkP3r"
      },
      "execution_count": null,
      "outputs": []
    },
    {
      "cell_type": "code",
      "source": [
        "df_spark.show(5)"
      ],
      "metadata": {
        "colab": {
          "base_uri": "https://localhost:8080/"
        },
        "id": "lZAky_qSxmlu",
        "outputId": "c0e91d4f-8cf9-4eea-d1c6-226e22d96984"
      },
      "execution_count": null,
      "outputs": [
        {
          "output_type": "stream",
          "name": "stdout",
          "text": [
            "+---------+-----+\n",
            "|     Name|   ID|\n",
            "+---------+-----+\n",
            "|    Adair| 7682|\n",
            "|    Adams| 4029|\n",
            "|Allamakee|14330|\n",
            "|Appanoose|12884|\n",
            "|  Audubon| 6119|\n",
            "+---------+-----+\n",
            "only showing top 5 rows\n",
            "\n"
          ]
        }
      ]
    },
    {
      "cell_type": "code",
      "source": [
        "df_spark.printSchema()"
      ],
      "metadata": {
        "colab": {
          "base_uri": "https://localhost:8080/"
        },
        "id": "CwYwbv-_yJwP",
        "outputId": "58b9b8ae-fdf4-4bd7-ce6e-1a9c1dbaf66c"
      },
      "execution_count": null,
      "outputs": [
        {
          "output_type": "stream",
          "name": "stdout",
          "text": [
            "root\n",
            " |-- Name: string (nullable = true)\n",
            " |-- ID: string (nullable = true)\n",
            "\n"
          ]
        }
      ]
    },
    {
      "cell_type": "markdown",
      "source": [
        "My Id column is integer but it is showing string because it takes every column as string to handle it we will pass \"inferScheme=True\" while reading the dataset"
      ],
      "metadata": {
        "id": "Xt1hi3zD0NKC"
      }
    },
    {
      "cell_type": "code",
      "source": [
        "df_spark=spark.read.csv(\"/content/drive/MyDrive/Pyspark/counties.csv\",inferSchema=True)"
      ],
      "metadata": {
        "id": "RzzXs2Xe0zBJ"
      },
      "execution_count": null,
      "outputs": []
    },
    {
      "cell_type": "code",
      "source": [
        "df_spark=df_spark.withColumnRenamed(\"_c0\",\"Name\")\\\n",
        " .withColumnRenamed(\"_c1\",\"ID\")"
      ],
      "metadata": {
        "id": "fI6E471d1ByM"
      },
      "execution_count": null,
      "outputs": []
    },
    {
      "cell_type": "code",
      "source": [
        "# checking the datatype of columns\n",
        "df_spark.printSchema()"
      ],
      "metadata": {
        "colab": {
          "base_uri": "https://localhost:8080/"
        },
        "id": "Ir4siGe_1E93",
        "outputId": "4340ab96-e330-4e34-e615-16b903172bfd"
      },
      "execution_count": null,
      "outputs": [
        {
          "output_type": "stream",
          "name": "stdout",
          "text": [
            "root\n",
            " |-- Name: string (nullable = true)\n",
            " |-- ID: integer (nullable = true)\n",
            "\n"
          ]
        }
      ]
    },
    {
      "cell_type": "markdown",
      "source": [
        "Now it showing integer type for ID"
      ],
      "metadata": {
        "id": "iSORj-Gm1JZy"
      }
    },
    {
      "cell_type": "code",
      "source": [
        "# checking for first 3 rows\n",
        "df_spark.head(3)"
      ],
      "metadata": {
        "colab": {
          "base_uri": "https://localhost:8080/"
        },
        "id": "USzsvv-JylvP",
        "outputId": "d89e8513-94f0-4900-af3b-8e281d1454fb"
      },
      "execution_count": null,
      "outputs": [
        {
          "output_type": "execute_result",
          "data": {
            "text/plain": [
              "[Row(Name='Adair', ID=7682),\n",
              " Row(Name='Adams', ID=4029),\n",
              " Row(Name='Allamakee', ID=14330)]"
            ]
          },
          "metadata": {},
          "execution_count": 18
        }
      ]
    },
    {
      "cell_type": "code",
      "source": [
        "#to check the type of variable_name \n",
        "type(df_spark)"
      ],
      "metadata": {
        "colab": {
          "base_uri": "https://localhost:8080/"
        },
        "id": "qNgOk7frysFn",
        "outputId": "74206cd1-b094-4366-abb2-0a48b063442d"
      },
      "execution_count": null,
      "outputs": [
        {
          "output_type": "execute_result",
          "data": {
            "text/plain": [
              "pyspark.sql.dataframe.DataFrame"
            ]
          },
          "metadata": {},
          "execution_count": 19
        }
      ]
    },
    {
      "cell_type": "code",
      "source": [
        "# to check the all columns name\n",
        "df_spark.columns"
      ],
      "metadata": {
        "colab": {
          "base_uri": "https://localhost:8080/"
        },
        "id": "l3cX8PHU1r2s",
        "outputId": "a99d5607-2d0a-46dd-b95d-b92a86923857"
      },
      "execution_count": null,
      "outputs": [
        {
          "output_type": "execute_result",
          "data": {
            "text/plain": [
              "['Name', 'ID']"
            ]
          },
          "metadata": {},
          "execution_count": 20
        }
      ]
    },
    {
      "cell_type": "code",
      "source": [
        "# select column by providing columns names \n",
        "df_spark.select('Name').show(5)"
      ],
      "metadata": {
        "colab": {
          "base_uri": "https://localhost:8080/"
        },
        "id": "evOFBBhd2Pfv",
        "outputId": "93e32fba-b005-47c2-fb8f-3328f772a963"
      },
      "execution_count": null,
      "outputs": [
        {
          "output_type": "stream",
          "name": "stdout",
          "text": [
            "+---------+\n",
            "|     Name|\n",
            "+---------+\n",
            "|    Adair|\n",
            "|    Adams|\n",
            "|Allamakee|\n",
            "|Appanoose|\n",
            "|  Audubon|\n",
            "+---------+\n",
            "only showing top 5 rows\n",
            "\n"
          ]
        }
      ]
    },
    {
      "cell_type": "code",
      "source": [
        "# check datatype of each column\n",
        "df_spark.dtypes"
      ],
      "metadata": {
        "colab": {
          "base_uri": "https://localhost:8080/"
        },
        "id": "WQEsv1-_2t0P",
        "outputId": "c3efa249-1e6e-4389-babd-9a051ca1a092"
      },
      "execution_count": null,
      "outputs": [
        {
          "output_type": "execute_result",
          "data": {
            "text/plain": [
              "[('Name', 'string'), ('ID', 'int')]"
            ]
          },
          "metadata": {},
          "execution_count": 22
        }
      ]
    },
    {
      "cell_type": "code",
      "source": [
        "# descibing the dataset\n",
        "df_spark.describe().show()"
      ],
      "metadata": {
        "colab": {
          "base_uri": "https://localhost:8080/"
        },
        "id": "Q5hMiZjM3kFw",
        "outputId": "080d419d-a345-4aa0-99dc-624ccbdb5f91"
      },
      "execution_count": null,
      "outputs": [
        {
          "output_type": "stream",
          "name": "stdout",
          "text": [
            "+-------+------+------------------+\n",
            "|summary|  Name|                ID|\n",
            "+-------+------+------------------+\n",
            "|  count|    99|                99|\n",
            "|   mean|  null| 30771.23232323232|\n",
            "| stddev|  null|52888.737874675055|\n",
            "|    min| Adair|              4029|\n",
            "|    max|Wright|            430640|\n",
            "+-------+------+------------------+\n",
            "\n"
          ]
        }
      ]
    },
    {
      "cell_type": "code",
      "source": [
        "# adding column to dataframe\n",
        "df_spark=df_spark.withColumn('ID2',df_spark['ID']+2)"
      ],
      "metadata": {
        "id": "sa_SeJ423-_s"
      },
      "execution_count": null,
      "outputs": []
    },
    {
      "cell_type": "code",
      "source": [
        "df_spark.show(5)"
      ],
      "metadata": {
        "colab": {
          "base_uri": "https://localhost:8080/"
        },
        "id": "s-yU2DV34zbP",
        "outputId": "020a749d-8169-40c4-aa6d-7b1f1a408cf9"
      },
      "execution_count": null,
      "outputs": [
        {
          "output_type": "stream",
          "name": "stdout",
          "text": [
            "+---------+-----+-----+\n",
            "|     Name|   ID|  ID2|\n",
            "+---------+-----+-----+\n",
            "|    Adair| 7682| 7684|\n",
            "|    Adams| 4029| 4031|\n",
            "|Allamakee|14330|14332|\n",
            "|Appanoose|12884|12886|\n",
            "|  Audubon| 6119| 6121|\n",
            "+---------+-----+-----+\n",
            "only showing top 5 rows\n",
            "\n"
          ]
        }
      ]
    },
    {
      "cell_type": "code",
      "source": [
        "# droping columns from data frame\n",
        "df_spark=df_spark.drop('ID2')"
      ],
      "metadata": {
        "id": "N9kvedZp5Gg_"
      },
      "execution_count": null,
      "outputs": []
    },
    {
      "cell_type": "code",
      "source": [
        "df_spark.show(5)"
      ],
      "metadata": {
        "colab": {
          "base_uri": "https://localhost:8080/"
        },
        "id": "kkkTP4Yo5hPW",
        "outputId": "f739b033-ed3f-4b28-e3f1-bfd382080161"
      },
      "execution_count": null,
      "outputs": [
        {
          "output_type": "stream",
          "name": "stdout",
          "text": [
            "+---------+-----+\n",
            "|     Name|   ID|\n",
            "+---------+-----+\n",
            "|    Adair| 7682|\n",
            "|    Adams| 4029|\n",
            "|Allamakee|14330|\n",
            "|Appanoose|12884|\n",
            "|  Audubon| 6119|\n",
            "+---------+-----+\n",
            "only showing top 5 rows\n",
            "\n"
          ]
        }
      ]
    },
    {
      "cell_type": "markdown",
      "source": [
        "# **Day 2**"
      ],
      "metadata": {
        "id": "jVsbymnt_QMc"
      }
    },
    {
      "cell_type": "code",
      "source": [
        "df_spark=spark.read.csv(\"/content/drive/MyDrive/Pyspark/PYSPA.csv\",header=True, inferSchema=True)"
      ],
      "metadata": {
        "id": "eYdgCjg-_OVx"
      },
      "execution_count": null,
      "outputs": []
    },
    {
      "cell_type": "code",
      "source": [
        "df_spark.show()"
      ],
      "metadata": {
        "colab": {
          "base_uri": "https://localhost:8080/"
        },
        "id": "5L2yutqN_mOo",
        "outputId": "b04eb9e2-0fe5-4946-b5a1-37b4ba69e047"
      },
      "execution_count": null,
      "outputs": [
        {
          "output_type": "stream",
          "name": "stdout",
          "text": [
            "+----+----+----------+-----+\n",
            "|Name| age|Experience|Salay|\n",
            "+----+----+----------+-----+\n",
            "|   A|  31|        10|30000|\n",
            "|   B|  30|         8|25000|\n",
            "|   C|  29|         4|20000|\n",
            "|   D|  24|         3|15000|\n",
            "|   E|  21|         1|18000|\n",
            "|   F|  23|         2|40000|\n",
            "|   G|null|      null|38000|\n",
            "|null|  34|        10| null|\n",
            "|null|  36|      null| null|\n",
            "+----+----+----------+-----+\n",
            "\n"
          ]
        }
      ]
    },
    {
      "cell_type": "code",
      "source": [
        "#droping rows cointaing null value if \"how=any\" it will drop row having 1,2 or more null values in a row \n",
        "#but if \"how=all\" it will drop row having all null values assigned to all columns\n",
        "df_spark.na.drop(how=\"any\").show()"
      ],
      "metadata": {
        "colab": {
          "base_uri": "https://localhost:8080/"
        },
        "id": "kMIiyb7O5l_o",
        "outputId": "48a8c5b5-0aa2-4f06-8e88-57e92bfc1f9f"
      },
      "execution_count": null,
      "outputs": [
        {
          "output_type": "stream",
          "name": "stdout",
          "text": [
            "+----+---+----------+-----+\n",
            "|Name|age|Experience|Salay|\n",
            "+----+---+----------+-----+\n",
            "|   A| 31|        10|30000|\n",
            "|   B| 30|         8|25000|\n",
            "|   C| 29|         4|20000|\n",
            "|   D| 24|         3|15000|\n",
            "|   E| 21|         1|18000|\n",
            "|   F| 23|         2|40000|\n",
            "+----+---+----------+-----+\n",
            "\n"
          ]
        }
      ]
    },
    {
      "cell_type": "code",
      "source": [
        "df_spark.show()"
      ],
      "metadata": {
        "colab": {
          "base_uri": "https://localhost:8080/"
        },
        "id": "LPEtD3cs_7hU",
        "outputId": "2e58cd67-3e3f-4cfd-9575-77c53c29bccb"
      },
      "execution_count": null,
      "outputs": [
        {
          "output_type": "stream",
          "name": "stdout",
          "text": [
            "+----+----+----------+-----+\n",
            "|Name| age|Experience|Salay|\n",
            "+----+----+----------+-----+\n",
            "|   A|  31|        10|30000|\n",
            "|   B|  30|         8|25000|\n",
            "|   C|  29|         4|20000|\n",
            "|   D|  24|         3|15000|\n",
            "|   E|  21|         1|18000|\n",
            "|   F|  23|         2|40000|\n",
            "|   G|null|      null|38000|\n",
            "|null|  34|        10| null|\n",
            "|null|  36|      null| null|\n",
            "+----+----+----------+-----+\n",
            "\n"
          ]
        }
      ]
    },
    {
      "cell_type": "code",
      "source": [
        "# threshold: if \"thresh=2\" it means at least two not null columns should present in a row if it is not then it will be deleted."
      ],
      "metadata": {
        "id": "oVkSdAR68WCz"
      },
      "execution_count": null,
      "outputs": []
    },
    {
      "cell_type": "code",
      "source": [
        "df_spark.na.drop(how=\"any\",thresh=2).show()"
      ],
      "metadata": {
        "colab": {
          "base_uri": "https://localhost:8080/"
        },
        "id": "eNTj4qo08Xy7",
        "outputId": "5c82e9ca-2fcb-4398-cada-f4c6e0109542"
      },
      "execution_count": null,
      "outputs": [
        {
          "output_type": "stream",
          "name": "stdout",
          "text": [
            "+----+----+----------+-----+\n",
            "|Name| age|Experience|Salay|\n",
            "+----+----+----------+-----+\n",
            "|   A|  31|        10|30000|\n",
            "|   B|  30|         8|25000|\n",
            "|   C|  29|         4|20000|\n",
            "|   D|  24|         3|15000|\n",
            "|   E|  21|         1|18000|\n",
            "|   F|  23|         2|40000|\n",
            "|   G|null|      null|38000|\n",
            "|null|  34|        10| null|\n",
            "+----+----+----------+-----+\n",
            "\n"
          ]
        }
      ]
    },
    {
      "cell_type": "code",
      "source": [
        "#subset: if subset=['age'] the all the rows containing null in age will be deleted\n",
        "df_spark.na.drop(how=\"any\",subset=['age']).show()"
      ],
      "metadata": {
        "id": "WZN4vliJAVau",
        "colab": {
          "base_uri": "https://localhost:8080/"
        },
        "outputId": "e7c36004-42d2-41a4-e1a4-b64bc3f44314"
      },
      "execution_count": null,
      "outputs": [
        {
          "output_type": "stream",
          "name": "stdout",
          "text": [
            "+----+---+----------+-----+\n",
            "|Name|age|Experience|Salay|\n",
            "+----+---+----------+-----+\n",
            "|   A| 31|        10|30000|\n",
            "|   B| 30|         8|25000|\n",
            "|   C| 29|         4|20000|\n",
            "|   D| 24|         3|15000|\n",
            "|   E| 21|         1|18000|\n",
            "|   F| 23|         2|40000|\n",
            "|null| 34|        10| null|\n",
            "|null| 36|      null| null|\n",
            "+----+---+----------+-----+\n",
            "\n"
          ]
        }
      ]
    },
    {
      "cell_type": "markdown",
      "source": [
        "**filling of MIssing value**"
      ],
      "metadata": {
        "id": "te2oEIRtkm5H"
      }
    },
    {
      "cell_type": "code",
      "source": [
        "#fill takes two parameter value and subset\n",
        "df_spark.na.fill(0).show()"
      ],
      "metadata": {
        "colab": {
          "base_uri": "https://localhost:8080/"
        },
        "id": "bhaRI7DFj3FV",
        "outputId": "53d415f4-d0b5-4b54-b510-da13edadcbf0"
      },
      "execution_count": null,
      "outputs": [
        {
          "output_type": "stream",
          "name": "stdout",
          "text": [
            "+----+---+----------+-----+\n",
            "|Name|age|Experience|Salay|\n",
            "+----+---+----------+-----+\n",
            "|   A| 31|        10|30000|\n",
            "|   B| 30|         8|25000|\n",
            "|   C| 29|         4|20000|\n",
            "|   D| 24|         3|15000|\n",
            "|   E| 21|         1|18000|\n",
            "|   F| 23|         2|40000|\n",
            "|   G|  0|         0|38000|\n",
            "|null| 34|        10|    0|\n",
            "|null| 36|         0|    0|\n",
            "+----+---+----------+-----+\n",
            "\n"
          ]
        }
      ]
    },
    {
      "cell_type": "markdown",
      "source": [
        "it is not filling name column because we are filling with integer but this is not an interger column "
      ],
      "metadata": {
        "id": "-lLz4NG_mFef"
      }
    },
    {
      "cell_type": "code",
      "source": [
        "df_spark.na.fill('Ashik').show()"
      ],
      "metadata": {
        "colab": {
          "base_uri": "https://localhost:8080/"
        },
        "id": "YLVqgouIlMEg",
        "outputId": "00c72b65-557c-4efb-8f02-4b519b189246"
      },
      "execution_count": null,
      "outputs": [
        {
          "output_type": "stream",
          "name": "stdout",
          "text": [
            "+-----+----+----------+-----+\n",
            "| Name| age|Experience|Salay|\n",
            "+-----+----+----------+-----+\n",
            "|    A|  31|        10|30000|\n",
            "|    B|  30|         8|25000|\n",
            "|    C|  29|         4|20000|\n",
            "|    D|  24|         3|15000|\n",
            "|    E|  21|         1|18000|\n",
            "|    F|  23|         2|40000|\n",
            "|    G|null|      null|38000|\n",
            "|Ashik|  34|        10| null|\n",
            "|Ashik|  36|      null| null|\n",
            "+-----+----+----------+-----+\n",
            "\n"
          ]
        }
      ]
    },
    {
      "cell_type": "code",
      "source": [
        "#subset=['age','Experience']\n",
        "df_spark.na.fill(0,['age','Experience']).show()"
      ],
      "metadata": {
        "colab": {
          "base_uri": "https://localhost:8080/"
        },
        "id": "8BJ7Vda-l_-f",
        "outputId": "4e44cfc7-a374-4e83-d25a-8916e85aa6d8"
      },
      "execution_count": null,
      "outputs": [
        {
          "output_type": "stream",
          "name": "stdout",
          "text": [
            "+----+---+----------+-----+\n",
            "|Name|age|Experience|Salay|\n",
            "+----+---+----------+-----+\n",
            "|   A| 31|        10|30000|\n",
            "|   B| 30|         8|25000|\n",
            "|   C| 29|         4|20000|\n",
            "|   D| 24|         3|15000|\n",
            "|   E| 21|         1|18000|\n",
            "|   F| 23|         2|40000|\n",
            "|   G|  0|         0|38000|\n",
            "|null| 34|        10| null|\n",
            "|null| 36|         0| null|\n",
            "+----+---+----------+-----+\n",
            "\n"
          ]
        }
      ]
    },
    {
      "cell_type": "code",
      "source": [
        "# fill null values with mean,mode and median by using imputer function in pyspark\n",
        "\n",
        "from pyspark.ml.feature import Imputer\n",
        "imputer=Imputer(\n",
        "    inputCols=['age','Experience','Salay'],\n",
        "    outputCols=[\"{}_imputed\".format(c) for c in ['age','Experience','Salay']]).setStrategy(\"mean\")\n",
        "\n"
      ],
      "metadata": {
        "id": "d10qcCbLmjRb"
      },
      "execution_count": null,
      "outputs": []
    },
    {
      "cell_type": "code",
      "source": [
        "imputer.fit(df_spark).transform(df_spark).show()"
      ],
      "metadata": {
        "colab": {
          "base_uri": "https://localhost:8080/"
        },
        "id": "nx-J9wHMqs9R",
        "outputId": "c45b0e02-f158-4cd4-fece-3c7b38369827"
      },
      "execution_count": null,
      "outputs": [
        {
          "output_type": "stream",
          "name": "stdout",
          "text": [
            "+----+----+----------+-----+-----------+------------------+-------------+\n",
            "|Name| age|Experience|Salay|age_imputed|Experience_imputed|Salay_imputed|\n",
            "+----+----+----------+-----+-----------+------------------+-------------+\n",
            "|   A|  31|        10|30000|         31|                10|        30000|\n",
            "|   B|  30|         8|25000|         30|                 8|        25000|\n",
            "|   C|  29|         4|20000|         29|                 4|        20000|\n",
            "|   D|  24|         3|15000|         24|                 3|        15000|\n",
            "|   E|  21|         1|18000|         21|                 1|        18000|\n",
            "|   F|  23|         2|40000|         23|                 2|        40000|\n",
            "|   G|null|      null|38000|         28|                 5|        38000|\n",
            "|null|  34|        10| null|         34|                10|        26571|\n",
            "|null|  36|      null| null|         36|                 5|        26571|\n",
            "+----+----+----------+-----+-----------+------------------+-------------+\n",
            "\n"
          ]
        }
      ]
    },
    {
      "cell_type": "markdown",
      "source": [
        "## **Filter Operations**"
      ],
      "metadata": {
        "id": "q1gDjDhGvPZB"
      }
    },
    {
      "cell_type": "code",
      "source": [
        "df_spark=df_spark.na.drop()"
      ],
      "metadata": {
        "id": "TFc132-8uxud"
      },
      "execution_count": null,
      "outputs": []
    },
    {
      "cell_type": "code",
      "source": [
        "df_spark.show()"
      ],
      "metadata": {
        "colab": {
          "base_uri": "https://localhost:8080/"
        },
        "id": "Ibc1Pju6vu1I",
        "outputId": "87ed3120-4068-4903-d2e9-e801384fc6fc"
      },
      "execution_count": null,
      "outputs": [
        {
          "output_type": "stream",
          "name": "stdout",
          "text": [
            "+----+---+----------+-----+\n",
            "|Name|age|Experience|Salay|\n",
            "+----+---+----------+-----+\n",
            "|   A| 31|        10|30000|\n",
            "|   B| 30|         8|25000|\n",
            "|   C| 29|         4|20000|\n",
            "|   D| 24|         3|15000|\n",
            "|   E| 21|         1|18000|\n",
            "|   F| 23|         2|40000|\n",
            "+----+---+----------+-----+\n",
            "\n"
          ]
        }
      ]
    },
    {
      "cell_type": "code",
      "source": [
        "# print the table where salary is greater or equal to 20000\n",
        "df_spark.filter(\"Salay>=20000\").show()"
      ],
      "metadata": {
        "colab": {
          "base_uri": "https://localhost:8080/"
        },
        "id": "R2S6klv_vzgl",
        "outputId": "56b50f40-f366-4a8e-a9f4-33c7e26ee2c8"
      },
      "execution_count": null,
      "outputs": [
        {
          "output_type": "stream",
          "name": "stdout",
          "text": [
            "+----+---+----------+-----+\n",
            "|Name|age|Experience|Salay|\n",
            "+----+---+----------+-----+\n",
            "|   A| 31|        10|30000|\n",
            "|   B| 30|         8|25000|\n",
            "|   C| 29|         4|20000|\n",
            "|   F| 23|         2|40000|\n",
            "+----+---+----------+-----+\n",
            "\n"
          ]
        }
      ]
    },
    {
      "cell_type": "code",
      "source": [
        "df_spark.filter(\"Salay>=20000\").select(['Name','age']).show()"
      ],
      "metadata": {
        "colab": {
          "base_uri": "https://localhost:8080/"
        },
        "id": "UcMYwoqVwTBw",
        "outputId": "0b79915a-6f83-458e-f8f5-7c53b7794b5d"
      },
      "execution_count": null,
      "outputs": [
        {
          "output_type": "stream",
          "name": "stdout",
          "text": [
            "+----+---+\n",
            "|Name|age|\n",
            "+----+---+\n",
            "|   A| 31|\n",
            "|   B| 30|\n",
            "|   C| 29|\n",
            "|   F| 23|\n",
            "+----+---+\n",
            "\n"
          ]
        }
      ]
    },
    {
      "cell_type": "code",
      "source": [
        "df_spark.filter((df_spark['Salay']>=20000) & (df_spark['age']>25)).show()"
      ],
      "metadata": {
        "colab": {
          "base_uri": "https://localhost:8080/"
        },
        "id": "X-vRst3awk24",
        "outputId": "56beb350-8365-45a7-adba-90fa4af11d88"
      },
      "execution_count": null,
      "outputs": [
        {
          "output_type": "stream",
          "name": "stdout",
          "text": [
            "+----+---+----------+-----+\n",
            "|Name|age|Experience|Salay|\n",
            "+----+---+----------+-----+\n",
            "|   A| 31|        10|30000|\n",
            "|   B| 30|         8|25000|\n",
            "|   C| 29|         4|20000|\n",
            "+----+---+----------+-----+\n",
            "\n"
          ]
        }
      ]
    },
    {
      "cell_type": "code",
      "source": [
        "df_spark.filter((df_spark['Salay']>=20000) | (df_spark['age']>25)).show()"
      ],
      "metadata": {
        "colab": {
          "base_uri": "https://localhost:8080/"
        },
        "id": "vwmgFdClxVRf",
        "outputId": "b1f3780a-72aa-4899-e1dc-f71f12b56767"
      },
      "execution_count": null,
      "outputs": [
        {
          "output_type": "stream",
          "name": "stdout",
          "text": [
            "+----+---+----------+-----+\n",
            "|Name|age|Experience|Salay|\n",
            "+----+---+----------+-----+\n",
            "|   A| 31|        10|30000|\n",
            "|   B| 30|         8|25000|\n",
            "|   C| 29|         4|20000|\n",
            "|   F| 23|         2|40000|\n",
            "+----+---+----------+-----+\n",
            "\n"
          ]
        }
      ]
    },
    {
      "cell_type": "code",
      "source": [
        "df_spark.filter(~(df_spark['Salay']>=20000)).show()"
      ],
      "metadata": {
        "colab": {
          "base_uri": "https://localhost:8080/"
        },
        "id": "SyYLTv1ZxiIS",
        "outputId": "67435b40-58e1-410a-b3b0-098c3fe2549a"
      },
      "execution_count": null,
      "outputs": [
        {
          "output_type": "stream",
          "name": "stdout",
          "text": [
            "+----+---+----------+-----+\n",
            "|Name|age|Experience|Salay|\n",
            "+----+---+----------+-----+\n",
            "|   D| 24|         3|15000|\n",
            "|   E| 21|         1|18000|\n",
            "+----+---+----------+-----+\n",
            "\n"
          ]
        }
      ]
    },
    {
      "cell_type": "markdown",
      "source": [
        "## **Groupby**"
      ],
      "metadata": {
        "id": "EiemiVj41Foe"
      }
    },
    {
      "cell_type": "code",
      "source": [
        "df_spark=spark.read.csv(\"/content/drive/MyDrive/Pyspark/test.csv\",header=True, inferSchema=True)"
      ],
      "metadata": {
        "id": "h5akfCFhxz8a"
      },
      "execution_count": null,
      "outputs": []
    },
    {
      "cell_type": "code",
      "source": [
        "df_spark.show()"
      ],
      "metadata": {
        "colab": {
          "base_uri": "https://localhost:8080/"
        },
        "id": "iBY9DSwu1PDt",
        "outputId": "d6104226-8eb0-43ce-edf3-8b2b8ec259ab"
      },
      "execution_count": null,
      "outputs": [
        {
          "output_type": "stream",
          "name": "stdout",
          "text": [
            "+----+-----------+------+\n",
            "|Name|Departments|salary|\n",
            "+----+-----------+------+\n",
            "|   K|         DS| 10000|\n",
            "|   K|        IOT|  5000|\n",
            "|   M|         BD|  4000|\n",
            "|   K|         BD|  4000|\n",
            "|   M|         DS|  3000|\n",
            "|   S|         DS| 20000|\n",
            "|   S|        IOT| 10000|\n",
            "|   S|         BD|  5000|\n",
            "|  Su|         DS| 10000|\n",
            "|  Su|         BD|  2000|\n",
            "+----+-----------+------+\n",
            "\n"
          ]
        }
      ]
    },
    {
      "cell_type": "code",
      "source": [
        "#groupby name\n",
        "df_spark.groupBy('Name').sum().show()"
      ],
      "metadata": {
        "colab": {
          "base_uri": "https://localhost:8080/"
        },
        "id": "1rcJDDiL1Spc",
        "outputId": "14ebeb3a-ce4a-4917-9fc7-9904be4e490b"
      },
      "execution_count": null,
      "outputs": [
        {
          "output_type": "stream",
          "name": "stdout",
          "text": [
            "+----+-----------+\n",
            "|Name|sum(salary)|\n",
            "+----+-----------+\n",
            "|   K|      19000|\n",
            "|  Su|      12000|\n",
            "|   M|       7000|\n",
            "|   S|      35000|\n",
            "+----+-----------+\n",
            "\n"
          ]
        }
      ]
    },
    {
      "cell_type": "code",
      "source": [
        "#groupby department\n",
        "df_spark.groupBy('Departments').sum().show()"
      ],
      "metadata": {
        "colab": {
          "base_uri": "https://localhost:8080/"
        },
        "id": "iRhp0DIv5Q1i",
        "outputId": "81f2f826-648c-4c19-9c6e-927965fb3591"
      },
      "execution_count": null,
      "outputs": [
        {
          "output_type": "stream",
          "name": "stdout",
          "text": [
            "+-----------+-----------+\n",
            "|Departments|sum(salary)|\n",
            "+-----------+-----------+\n",
            "|        IOT|      15000|\n",
            "|         BD|      15000|\n",
            "|         DS|      43000|\n",
            "+-----------+-----------+\n",
            "\n"
          ]
        }
      ]
    },
    {
      "cell_type": "code",
      "source": [
        "#groupby department\n",
        "df_spark.groupBy('Departments').mean().show()"
      ],
      "metadata": {
        "colab": {
          "base_uri": "https://localhost:8080/"
        },
        "id": "vdVDf1Mx8DrJ",
        "outputId": "60e8dc8a-4fad-4abd-b99b-d660ef9a6f22"
      },
      "execution_count": null,
      "outputs": [
        {
          "output_type": "stream",
          "name": "stdout",
          "text": [
            "+-----------+-----------+\n",
            "|Departments|avg(salary)|\n",
            "+-----------+-----------+\n",
            "|        IOT|     7500.0|\n",
            "|         BD|     3750.0|\n",
            "|         DS|    10750.0|\n",
            "+-----------+-----------+\n",
            "\n"
          ]
        }
      ]
    },
    {
      "cell_type": "code",
      "source": [
        "df_spark.groupBy('Departments').count().show()"
      ],
      "metadata": {
        "colab": {
          "base_uri": "https://localhost:8080/"
        },
        "id": "i9-FJwoJ8uhb",
        "outputId": "379cd24a-4587-4eed-a6a1-01bcbcfa3bfa"
      },
      "execution_count": null,
      "outputs": [
        {
          "output_type": "stream",
          "name": "stdout",
          "text": [
            "+-----------+-----+\n",
            "|Departments|count|\n",
            "+-----------+-----+\n",
            "|        IOT|    2|\n",
            "|         BD|    4|\n",
            "|         DS|    4|\n",
            "+-----------+-----+\n",
            "\n"
          ]
        }
      ]
    },
    {
      "cell_type": "code",
      "source": [
        "df_spark.agg({'salary':'sum'}).show()"
      ],
      "metadata": {
        "colab": {
          "base_uri": "https://localhost:8080/"
        },
        "id": "p9sJoUsX87Wa",
        "outputId": "8dab3c66-69d4-456b-ce4a-c516b1ee9775"
      },
      "execution_count": null,
      "outputs": [
        {
          "output_type": "stream",
          "name": "stdout",
          "text": [
            "+-----------+\n",
            "|sum(salary)|\n",
            "+-----------+\n",
            "|      73000|\n",
            "+-----------+\n",
            "\n"
          ]
        }
      ]
    },
    {
      "cell_type": "markdown",
      "source": [
        "# **LINEAR REGRESSION**"
      ],
      "metadata": {
        "id": "Htlv-TqTnEfK"
      }
    },
    {
      "cell_type": "code",
      "source": [
        "df_spark=spark.read.csv(\"/content/drive/MyDrive/Pyspark/LR.csv\",header=True, inferSchema=True)"
      ],
      "metadata": {
        "id": "81B2z5Ds9lWM"
      },
      "execution_count": null,
      "outputs": []
    },
    {
      "cell_type": "code",
      "source": [
        "df_spark.show()"
      ],
      "metadata": {
        "colab": {
          "base_uri": "https://localhost:8080/"
        },
        "id": "dZ9_5v6pnDZW",
        "outputId": "d417f122-7c92-4bbb-a5bf-bb8020ca3bc5"
      },
      "execution_count": null,
      "outputs": [
        {
          "output_type": "stream",
          "name": "stdout",
          "text": [
            "+----+---+---+-----+\n",
            "|Name|age|Exp|  Sal|\n",
            "+----+---+---+-----+\n",
            "|   A| 31| 10|30000|\n",
            "|   B| 30|  8|25000|\n",
            "|   C| 29|  4|20000|\n",
            "|   D| 24|  3|20000|\n",
            "|   E| 21|  1|15000|\n",
            "|   F| 23|  2|18000|\n",
            "+----+---+---+-----+\n",
            "\n"
          ]
        }
      ]
    },
    {
      "cell_type": "code",
      "source": [
        "df_spark.printSchema()"
      ],
      "metadata": {
        "colab": {
          "base_uri": "https://localhost:8080/"
        },
        "id": "bI0SjPqsnOm1",
        "outputId": "6e9115c1-f691-4aee-e165-c2b4c5e95610"
      },
      "execution_count": null,
      "outputs": [
        {
          "output_type": "stream",
          "name": "stdout",
          "text": [
            "root\n",
            " |-- Name: string (nullable = true)\n",
            " |-- age: integer (nullable = true)\n",
            " |-- Exp: integer (nullable = true)\n",
            " |-- Sal: integer (nullable = true)\n",
            "\n"
          ]
        }
      ]
    },
    {
      "cell_type": "code",
      "source": [
        "df_spark.columns"
      ],
      "metadata": {
        "colab": {
          "base_uri": "https://localhost:8080/"
        },
        "id": "Tyd4Q7OgnVbk",
        "outputId": "69b558c4-efb8-47a3-8fc6-3ce1f7510764"
      },
      "execution_count": null,
      "outputs": [
        {
          "output_type": "execute_result",
          "data": {
            "text/plain": [
              "['Name', 'age', 'Exp', 'Sal']"
            ]
          },
          "metadata": {},
          "execution_count": 57
        }
      ]
    },
    {
      "cell_type": "markdown",
      "source": [
        "[Age,Experience]----> new feature--->independent feature"
      ],
      "metadata": {
        "id": "VXdIa8M3nh07"
      }
    },
    {
      "cell_type": "code",
      "source": [
        "from pyspark.ml.feature import VectorAssembler\n",
        "featureassembler=VectorAssembler(inputCols=[\"age\",\"Exp\"],outputCol=\"Independent Features\")"
      ],
      "metadata": {
        "id": "NdgdGyjVneH3"
      },
      "execution_count": null,
      "outputs": []
    },
    {
      "cell_type": "code",
      "source": [
        "output=featureassembler.transform(df_spark)"
      ],
      "metadata": {
        "id": "q5Ub9y5unv5E"
      },
      "execution_count": null,
      "outputs": []
    },
    {
      "cell_type": "code",
      "source": [
        "output.show()"
      ],
      "metadata": {
        "colab": {
          "base_uri": "https://localhost:8080/"
        },
        "id": "Sv2wMNRyn2nP",
        "outputId": "2972a88b-e768-4d15-e3e5-73d35b419db7"
      },
      "execution_count": null,
      "outputs": [
        {
          "output_type": "stream",
          "name": "stdout",
          "text": [
            "+----+---+---+-----+--------------------+\n",
            "|Name|age|Exp|  Sal|Independent Features|\n",
            "+----+---+---+-----+--------------------+\n",
            "|   A| 31| 10|30000|         [31.0,10.0]|\n",
            "|   B| 30|  8|25000|          [30.0,8.0]|\n",
            "|   C| 29|  4|20000|          [29.0,4.0]|\n",
            "|   D| 24|  3|20000|          [24.0,3.0]|\n",
            "|   E| 21|  1|15000|          [21.0,1.0]|\n",
            "|   F| 23|  2|18000|          [23.0,2.0]|\n",
            "+----+---+---+-----+--------------------+\n",
            "\n"
          ]
        }
      ]
    },
    {
      "cell_type": "code",
      "source": [
        "output.columns"
      ],
      "metadata": {
        "colab": {
          "base_uri": "https://localhost:8080/"
        },
        "id": "-qEDgs3On5tn",
        "outputId": "d7554631-cc1e-4e42-d60d-6b70e11d0ae4"
      },
      "execution_count": null,
      "outputs": [
        {
          "output_type": "execute_result",
          "data": {
            "text/plain": [
              "['Name', 'age', 'Exp', 'Sal', 'Independent Features']"
            ]
          },
          "metadata": {},
          "execution_count": 61
        }
      ]
    },
    {
      "cell_type": "code",
      "source": [
        "finalized_data=output.select(\"Independent Features\",\"Sal\")"
      ],
      "metadata": {
        "id": "BwvxU82An-cg"
      },
      "execution_count": null,
      "outputs": []
    },
    {
      "cell_type": "code",
      "source": [
        "finalized_data.show()"
      ],
      "metadata": {
        "colab": {
          "base_uri": "https://localhost:8080/"
        },
        "id": "lPQNCjN2oCoU",
        "outputId": "15d65af9-e0cf-484d-ea7d-5c7e9807f229"
      },
      "execution_count": null,
      "outputs": [
        {
          "output_type": "stream",
          "name": "stdout",
          "text": [
            "+--------------------+-----+\n",
            "|Independent Features|  Sal|\n",
            "+--------------------+-----+\n",
            "|         [31.0,10.0]|30000|\n",
            "|          [30.0,8.0]|25000|\n",
            "|          [29.0,4.0]|20000|\n",
            "|          [24.0,3.0]|20000|\n",
            "|          [21.0,1.0]|15000|\n",
            "|          [23.0,2.0]|18000|\n",
            "+--------------------+-----+\n",
            "\n"
          ]
        }
      ]
    },
    {
      "cell_type": "code",
      "source": [
        "from pyspark.ml.regression import LinearRegression\n",
        "##train test split\n",
        "train_data,test_data=finalized_data.randomSplit([0.75,0.25])\n",
        "regressor=LinearRegression(featuresCol='Independent Features', labelCol='Sal')\n",
        "regressor=regressor.fit(train_data)"
      ],
      "metadata": {
        "id": "dDt7ACA_oFVu"
      },
      "execution_count": null,
      "outputs": []
    },
    {
      "cell_type": "code",
      "source": [
        "### Coefficients\n",
        "regressor.coefficients"
      ],
      "metadata": {
        "colab": {
          "base_uri": "https://localhost:8080/"
        },
        "id": "uM5xCJsfoKey",
        "outputId": "70600579-e29a-4de0-fd17-f339dba69204"
      },
      "execution_count": null,
      "outputs": [
        {
          "output_type": "execute_result",
          "data": {
            "text/plain": [
              "DenseVector([-323.2867, 1696.8066])"
            ]
          },
          "metadata": {},
          "execution_count": 66
        }
      ]
    },
    {
      "cell_type": "code",
      "source": [
        "### Intercepts\n",
        "regressor.intercept"
      ],
      "metadata": {
        "colab": {
          "base_uri": "https://localhost:8080/"
        },
        "id": "TwgORMcPoP2N",
        "outputId": "88f7bef5-041c-4f00-a773-8cfd1b416b69"
      },
      "execution_count": null,
      "outputs": [
        {
          "output_type": "execute_result",
          "data": {
            "text/plain": [
              "22295.299605311826"
            ]
          },
          "metadata": {},
          "execution_count": 67
        }
      ]
    },
    {
      "cell_type": "code",
      "source": [
        "### Prediction\n",
        "pred_results=regressor.evaluate(test_data)"
      ],
      "metadata": {
        "id": "b_GOmK6IoSyv"
      },
      "execution_count": null,
      "outputs": []
    },
    {
      "cell_type": "code",
      "source": [
        "pred_results.predictions.show()"
      ],
      "metadata": {
        "colab": {
          "base_uri": "https://localhost:8080/"
        },
        "id": "U_luRmRzoYid",
        "outputId": "ec867548-0d7a-4f79-c369-f2478ee8de2a"
      },
      "execution_count": null,
      "outputs": [
        {
          "output_type": "stream",
          "name": "stderr",
          "text": [
            "/usr/local/lib/python3.7/dist-packages/pyspark/sql/context.py:127: FutureWarning: Deprecated in 3.0.0. Use SparkSession.builder.getOrCreate() instead.\n",
            "  FutureWarning\n"
          ]
        },
        {
          "output_type": "stream",
          "name": "stdout",
          "text": [
            "+--------------------+-----+------------------+\n",
            "|Independent Features|  Sal|        prediction|\n",
            "+--------------------+-----+------------------+\n",
            "|          [21.0,1.0]|15000|17203.085755292585|\n",
            "+--------------------+-----+------------------+\n",
            "\n"
          ]
        }
      ]
    },
    {
      "cell_type": "code",
      "source": [
        "pred_results.meanAbsoluteError,pred_results.meanSquaredError"
      ],
      "metadata": {
        "colab": {
          "base_uri": "https://localhost:8080/"
        },
        "id": "nFbSp0pAoaeo",
        "outputId": "3b1e73ba-0cbf-49d0-dcc5-0e70f00a437e"
      },
      "execution_count": null,
      "outputs": [
        {
          "output_type": "execute_result",
          "data": {
            "text/plain": [
              "(2203.0857552925845, 4853586.845173097)"
            ]
          },
          "metadata": {},
          "execution_count": 70
        }
      ]
    },
    {
      "cell_type": "code",
      "source": [
        ""
      ],
      "metadata": {
        "id": "K9kSn-whofRg"
      },
      "execution_count": null,
      "outputs": []
    }
  ]
}