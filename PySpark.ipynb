{
  "nbformat": 4,
  "nbformat_minor": 0,
  "metadata": {
    "colab": {
      "name": "PySpark.ipynb",
      "provenance": [],
      "collapsed_sections": [],
      "authorship_tag": "ABX9TyOM22GjtvBzF9uq0N6anBFJ",
      "include_colab_link": true
    },
    "kernelspec": {
      "name": "python3",
      "display_name": "Python 3"
    },
    "language_info": {
      "name": "python"
    }
  },
  "cells": [
    {
      "cell_type": "markdown",
      "metadata": {
        "id": "view-in-github",
        "colab_type": "text"
      },
      "source": [
        "<a href=\"https://colab.research.google.com/github/Ashik9576/PySpark_Learning/blob/main/PySpark.ipynb\" target=\"_parent\"><img src=\"https://colab.research.google.com/assets/colab-badge.svg\" alt=\"Open In Colab\"/></a>"
      ]
    },
    {
      "cell_type": "markdown",
      "source": [
        "# **PySpark Installation**"
      ],
      "metadata": {
        "id": "7-K7E83ygOwe"
      }
    },
    {
      "cell_type": "code",
      "source": [
        "!pip install pyspark"
      ],
      "metadata": {
        "colab": {
          "base_uri": "https://localhost:8080/"
        },
        "id": "3cl3QnASgWjC",
        "outputId": "51a3e612-a341-4167-b604-8c526a8658db"
      },
      "execution_count": 63,
      "outputs": [
        {
          "output_type": "stream",
          "name": "stdout",
          "text": [
            "Requirement already satisfied: pyspark in /usr/local/lib/python3.7/dist-packages (3.2.1)\n",
            "Requirement already satisfied: py4j==0.10.9.3 in /usr/local/lib/python3.7/dist-packages (from pyspark) (0.10.9.3)\n"
          ]
        }
      ]
    },
    {
      "cell_type": "code",
      "source": [
        "import pyspark"
      ],
      "metadata": {
        "id": "BCnqlvoogfUX"
      },
      "execution_count": 64,
      "outputs": []
    },
    {
      "cell_type": "code",
      "source": [
        "# mounted the drive\n",
        "from google.colab import drive\n",
        "drive.mount('/content/drive')"
      ],
      "metadata": {
        "colab": {
          "base_uri": "https://localhost:8080/"
        },
        "id": "VmJIbU4FhOKx",
        "outputId": "f9d9910f-bcbb-40c5-bb15-7579ec33eab1"
      },
      "execution_count": 65,
      "outputs": [
        {
          "output_type": "stream",
          "name": "stdout",
          "text": [
            "Drive already mounted at /content/drive; to attempt to forcibly remount, call drive.mount(\"/content/drive\", force_remount=True).\n"
          ]
        }
      ]
    },
    {
      "cell_type": "code",
      "source": [
        "import pandas as pd\n",
        "df=pd.read_csv(\"/content/drive/MyDrive/Pyspark/counties.csv\")"
      ],
      "metadata": {
        "id": "2mYL1hz0glhl"
      },
      "execution_count": 66,
      "outputs": []
    },
    {
      "cell_type": "code",
      "source": [
        "df.columns=['Name','ID']"
      ],
      "metadata": {
        "id": "Dzy3RrJdh8sU"
      },
      "execution_count": 67,
      "outputs": []
    },
    {
      "cell_type": "code",
      "source": [
        "df.head()"
      ],
      "metadata": {
        "id": "RZUrkIbnh_GI",
        "colab": {
          "base_uri": "https://localhost:8080/",
          "height": 206
        },
        "outputId": "d4216256-2fdc-4bc5-bcf2-f4ef9cff3bde"
      },
      "execution_count": 68,
      "outputs": [
        {
          "output_type": "execute_result",
          "data": {
            "text/plain": [
              "        Name     ID\n",
              "0      Adams   4029\n",
              "1  Allamakee  14330\n",
              "2  Appanoose  12884\n",
              "3    Audubon   6119\n",
              "4     Benton  26076"
            ],
            "text/html": [
              "\n",
              "  <div id=\"df-f0c4baed-2292-4321-b578-b0a4a01ce42f\">\n",
              "    <div class=\"colab-df-container\">\n",
              "      <div>\n",
              "<style scoped>\n",
              "    .dataframe tbody tr th:only-of-type {\n",
              "        vertical-align: middle;\n",
              "    }\n",
              "\n",
              "    .dataframe tbody tr th {\n",
              "        vertical-align: top;\n",
              "    }\n",
              "\n",
              "    .dataframe thead th {\n",
              "        text-align: right;\n",
              "    }\n",
              "</style>\n",
              "<table border=\"1\" class=\"dataframe\">\n",
              "  <thead>\n",
              "    <tr style=\"text-align: right;\">\n",
              "      <th></th>\n",
              "      <th>Name</th>\n",
              "      <th>ID</th>\n",
              "    </tr>\n",
              "  </thead>\n",
              "  <tbody>\n",
              "    <tr>\n",
              "      <th>0</th>\n",
              "      <td>Adams</td>\n",
              "      <td>4029</td>\n",
              "    </tr>\n",
              "    <tr>\n",
              "      <th>1</th>\n",
              "      <td>Allamakee</td>\n",
              "      <td>14330</td>\n",
              "    </tr>\n",
              "    <tr>\n",
              "      <th>2</th>\n",
              "      <td>Appanoose</td>\n",
              "      <td>12884</td>\n",
              "    </tr>\n",
              "    <tr>\n",
              "      <th>3</th>\n",
              "      <td>Audubon</td>\n",
              "      <td>6119</td>\n",
              "    </tr>\n",
              "    <tr>\n",
              "      <th>4</th>\n",
              "      <td>Benton</td>\n",
              "      <td>26076</td>\n",
              "    </tr>\n",
              "  </tbody>\n",
              "</table>\n",
              "</div>\n",
              "      <button class=\"colab-df-convert\" onclick=\"convertToInteractive('df-f0c4baed-2292-4321-b578-b0a4a01ce42f')\"\n",
              "              title=\"Convert this dataframe to an interactive table.\"\n",
              "              style=\"display:none;\">\n",
              "        \n",
              "  <svg xmlns=\"http://www.w3.org/2000/svg\" height=\"24px\"viewBox=\"0 0 24 24\"\n",
              "       width=\"24px\">\n",
              "    <path d=\"M0 0h24v24H0V0z\" fill=\"none\"/>\n",
              "    <path d=\"M18.56 5.44l.94 2.06.94-2.06 2.06-.94-2.06-.94-.94-2.06-.94 2.06-2.06.94zm-11 1L8.5 8.5l.94-2.06 2.06-.94-2.06-.94L8.5 2.5l-.94 2.06-2.06.94zm10 10l.94 2.06.94-2.06 2.06-.94-2.06-.94-.94-2.06-.94 2.06-2.06.94z\"/><path d=\"M17.41 7.96l-1.37-1.37c-.4-.4-.92-.59-1.43-.59-.52 0-1.04.2-1.43.59L10.3 9.45l-7.72 7.72c-.78.78-.78 2.05 0 2.83L4 21.41c.39.39.9.59 1.41.59.51 0 1.02-.2 1.41-.59l7.78-7.78 2.81-2.81c.8-.78.8-2.07 0-2.86zM5.41 20L4 18.59l7.72-7.72 1.47 1.35L5.41 20z\"/>\n",
              "  </svg>\n",
              "      </button>\n",
              "      \n",
              "  <style>\n",
              "    .colab-df-container {\n",
              "      display:flex;\n",
              "      flex-wrap:wrap;\n",
              "      gap: 12px;\n",
              "    }\n",
              "\n",
              "    .colab-df-convert {\n",
              "      background-color: #E8F0FE;\n",
              "      border: none;\n",
              "      border-radius: 50%;\n",
              "      cursor: pointer;\n",
              "      display: none;\n",
              "      fill: #1967D2;\n",
              "      height: 32px;\n",
              "      padding: 0 0 0 0;\n",
              "      width: 32px;\n",
              "    }\n",
              "\n",
              "    .colab-df-convert:hover {\n",
              "      background-color: #E2EBFA;\n",
              "      box-shadow: 0px 1px 2px rgba(60, 64, 67, 0.3), 0px 1px 3px 1px rgba(60, 64, 67, 0.15);\n",
              "      fill: #174EA6;\n",
              "    }\n",
              "\n",
              "    [theme=dark] .colab-df-convert {\n",
              "      background-color: #3B4455;\n",
              "      fill: #D2E3FC;\n",
              "    }\n",
              "\n",
              "    [theme=dark] .colab-df-convert:hover {\n",
              "      background-color: #434B5C;\n",
              "      box-shadow: 0px 1px 3px 1px rgba(0, 0, 0, 0.15);\n",
              "      filter: drop-shadow(0px 1px 2px rgba(0, 0, 0, 0.3));\n",
              "      fill: #FFFFFF;\n",
              "    }\n",
              "  </style>\n",
              "\n",
              "      <script>\n",
              "        const buttonEl =\n",
              "          document.querySelector('#df-f0c4baed-2292-4321-b578-b0a4a01ce42f button.colab-df-convert');\n",
              "        buttonEl.style.display =\n",
              "          google.colab.kernel.accessAllowed ? 'block' : 'none';\n",
              "\n",
              "        async function convertToInteractive(key) {\n",
              "          const element = document.querySelector('#df-f0c4baed-2292-4321-b578-b0a4a01ce42f');\n",
              "          const dataTable =\n",
              "            await google.colab.kernel.invokeFunction('convertToInteractive',\n",
              "                                                     [key], {});\n",
              "          if (!dataTable) return;\n",
              "\n",
              "          const docLinkHtml = 'Like what you see? Visit the ' +\n",
              "            '<a target=\"_blank\" href=https://colab.research.google.com/notebooks/data_table.ipynb>data table notebook</a>'\n",
              "            + ' to learn more about interactive tables.';\n",
              "          element.innerHTML = '';\n",
              "          dataTable['output_type'] = 'display_data';\n",
              "          await google.colab.output.renderOutput(dataTable, element);\n",
              "          const docLink = document.createElement('div');\n",
              "          docLink.innerHTML = docLinkHtml;\n",
              "          element.appendChild(docLink);\n",
              "        }\n",
              "      </script>\n",
              "    </div>\n",
              "  </div>\n",
              "  "
            ]
          },
          "metadata": {},
          "execution_count": 68
        }
      ]
    },
    {
      "cell_type": "markdown",
      "source": [
        "# **Reading file in Spark**\n"
      ],
      "metadata": {
        "id": "2cwUfSOlix7u"
      }
    },
    {
      "cell_type": "markdown",
      "source": [
        "**firstly I have to creat a spark session**"
      ],
      "metadata": {
        "id": "4nb_zNKLi_tE"
      }
    },
    {
      "cell_type": "code",
      "source": [
        "from pyspark.sql import SparkSession"
      ],
      "metadata": {
        "id": "v7He9fk9ivF8"
      },
      "execution_count": 69,
      "outputs": []
    },
    {
      "cell_type": "code",
      "source": [
        "spark=SparkSession.builder.appName('Ashik').getOrCreate()"
      ],
      "metadata": {
        "id": "WASytNkDjVhN"
      },
      "execution_count": 70,
      "outputs": []
    },
    {
      "cell_type": "code",
      "source": [
        "spark"
      ],
      "metadata": {
        "colab": {
          "base_uri": "https://localhost:8080/",
          "height": 219
        },
        "id": "jytvsKAojrBv",
        "outputId": "de5417bd-f138-4c39-dae0-272228dc84fe"
      },
      "execution_count": 71,
      "outputs": [
        {
          "output_type": "execute_result",
          "data": {
            "text/plain": [
              "<pyspark.sql.session.SparkSession at 0x7f0f386748d0>"
            ],
            "text/html": [
              "\n",
              "            <div>\n",
              "                <p><b>SparkSession - in-memory</b></p>\n",
              "                \n",
              "        <div>\n",
              "            <p><b>SparkContext</b></p>\n",
              "\n",
              "            <p><a href=\"http://e819b5567460:4040\">Spark UI</a></p>\n",
              "\n",
              "            <dl>\n",
              "              <dt>Version</dt>\n",
              "                <dd><code>v3.2.1</code></dd>\n",
              "              <dt>Master</dt>\n",
              "                <dd><code>local[*]</code></dd>\n",
              "              <dt>AppName</dt>\n",
              "                <dd><code>Ashik</code></dd>\n",
              "            </dl>\n",
              "        </div>\n",
              "        \n",
              "            </div>\n",
              "        "
            ]
          },
          "metadata": {},
          "execution_count": 71
        }
      ]
    },
    {
      "cell_type": "code",
      "source": [
        "df_spark=spark.read.csv(\"/content/drive/MyDrive/Pyspark/counties.csv\")"
      ],
      "metadata": {
        "id": "cTRLinpSjvD0"
      },
      "execution_count": 72,
      "outputs": []
    },
    {
      "cell_type": "code",
      "source": [
        "df_spark.show()"
      ],
      "metadata": {
        "colab": {
          "base_uri": "https://localhost:8080/"
        },
        "id": "q4l7hR2Hj_5V",
        "outputId": "35d76190-7059-48be-fb1b-34927d5b20cd"
      },
      "execution_count": 73,
      "outputs": [
        {
          "output_type": "stream",
          "name": "stdout",
          "text": [
            "+-----------+------+\n",
            "|        _c0|   _c1|\n",
            "+-----------+------+\n",
            "|      Adair|  7682|\n",
            "|      Adams|  4029|\n",
            "|  Allamakee| 14330|\n",
            "|  Appanoose| 12884|\n",
            "|    Audubon|  6119|\n",
            "|     Benton| 26076|\n",
            "| Black Hawk|131090|\n",
            "|      Boone| 26306|\n",
            "|     Bremer| 24276|\n",
            "|   Buchanan| 20958|\n",
            "|Buena Vista| 20260|\n",
            "|     Butler| 14867|\n",
            "|    Calhoun|  9670|\n",
            "|    Carroll| 20816|\n",
            "|       Cass| 13956|\n",
            "|      Cedar| 18499|\n",
            "|Cerro Gordo| 44151|\n",
            "|   Cherokee| 12072|\n",
            "|  Chickasaw| 12439|\n",
            "|     Clarke|  9286|\n",
            "+-----------+------+\n",
            "only showing top 20 rows\n",
            "\n"
          ]
        }
      ]
    },
    {
      "cell_type": "markdown",
      "source": [
        "# **Changing the columns name**"
      ],
      "metadata": {
        "id": "EKmyqpxNyCJI"
      }
    },
    {
      "cell_type": "code",
      "source": [
        "df_spark=df_spark.withColumnRenamed(\"_c0\",\"Name\")\\\n",
        " .withColumnRenamed(\"_c1\",\"ID\")"
      ],
      "metadata": {
        "id": "iyRVoIkrkP3r"
      },
      "execution_count": 74,
      "outputs": []
    },
    {
      "cell_type": "code",
      "source": [
        "df_spark.show(5)"
      ],
      "metadata": {
        "colab": {
          "base_uri": "https://localhost:8080/"
        },
        "id": "lZAky_qSxmlu",
        "outputId": "2fdad6f8-c038-43a7-bebc-fb785b760058"
      },
      "execution_count": 75,
      "outputs": [
        {
          "output_type": "stream",
          "name": "stdout",
          "text": [
            "+---------+-----+\n",
            "|     Name|   ID|\n",
            "+---------+-----+\n",
            "|    Adair| 7682|\n",
            "|    Adams| 4029|\n",
            "|Allamakee|14330|\n",
            "|Appanoose|12884|\n",
            "|  Audubon| 6119|\n",
            "+---------+-----+\n",
            "only showing top 5 rows\n",
            "\n"
          ]
        }
      ]
    },
    {
      "cell_type": "code",
      "source": [
        "df_spark.printSchema()"
      ],
      "metadata": {
        "colab": {
          "base_uri": "https://localhost:8080/"
        },
        "id": "CwYwbv-_yJwP",
        "outputId": "8f6bd7bb-5de5-4fa7-d006-1a638f4fc0d8"
      },
      "execution_count": 76,
      "outputs": [
        {
          "output_type": "stream",
          "name": "stdout",
          "text": [
            "root\n",
            " |-- Name: string (nullable = true)\n",
            " |-- ID: string (nullable = true)\n",
            "\n"
          ]
        }
      ]
    },
    {
      "cell_type": "markdown",
      "source": [
        "My Id column is integer but it is showing string because it takes every column as string to handle it we will pass \"inferScheme=True\" while reading the dataset"
      ],
      "metadata": {
        "id": "Xt1hi3zD0NKC"
      }
    },
    {
      "cell_type": "code",
      "source": [
        "df_spark=spark.read.csv(\"/content/drive/MyDrive/Pyspark/counties.csv\",inferSchema=True)"
      ],
      "metadata": {
        "id": "RzzXs2Xe0zBJ"
      },
      "execution_count": 77,
      "outputs": []
    },
    {
      "cell_type": "code",
      "source": [
        "df_spark=df_spark.withColumnRenamed(\"_c0\",\"Name\")\\\n",
        " .withColumnRenamed(\"_c1\",\"ID\")"
      ],
      "metadata": {
        "id": "fI6E471d1ByM"
      },
      "execution_count": 78,
      "outputs": []
    },
    {
      "cell_type": "code",
      "source": [
        "# checking the datatype of columns\n",
        "df_spark.printSchema()"
      ],
      "metadata": {
        "colab": {
          "base_uri": "https://localhost:8080/"
        },
        "id": "Ir4siGe_1E93",
        "outputId": "86911bf2-f9d4-41a7-fd01-a095d8391fc9"
      },
      "execution_count": 79,
      "outputs": [
        {
          "output_type": "stream",
          "name": "stdout",
          "text": [
            "root\n",
            " |-- Name: string (nullable = true)\n",
            " |-- ID: integer (nullable = true)\n",
            "\n"
          ]
        }
      ]
    },
    {
      "cell_type": "markdown",
      "source": [
        "Now it showing integer type for ID"
      ],
      "metadata": {
        "id": "iSORj-Gm1JZy"
      }
    },
    {
      "cell_type": "code",
      "source": [
        "# checking for first 3 rows\n",
        "df_spark.head(3)"
      ],
      "metadata": {
        "colab": {
          "base_uri": "https://localhost:8080/"
        },
        "id": "USzsvv-JylvP",
        "outputId": "d6690966-c1d0-4080-a7c0-f143cc7b2a05"
      },
      "execution_count": 80,
      "outputs": [
        {
          "output_type": "execute_result",
          "data": {
            "text/plain": [
              "[Row(Name='Adair', ID=7682),\n",
              " Row(Name='Adams', ID=4029),\n",
              " Row(Name='Allamakee', ID=14330)]"
            ]
          },
          "metadata": {},
          "execution_count": 80
        }
      ]
    },
    {
      "cell_type": "code",
      "source": [
        "#to check the type of variable_name \n",
        "type(df_spark)"
      ],
      "metadata": {
        "colab": {
          "base_uri": "https://localhost:8080/"
        },
        "id": "qNgOk7frysFn",
        "outputId": "466e3614-2c1a-4848-8ac6-e0a5d3062886"
      },
      "execution_count": 81,
      "outputs": [
        {
          "output_type": "execute_result",
          "data": {
            "text/plain": [
              "pyspark.sql.dataframe.DataFrame"
            ]
          },
          "metadata": {},
          "execution_count": 81
        }
      ]
    },
    {
      "cell_type": "code",
      "source": [
        "# to check the all columns name\n",
        "df_spark.columns"
      ],
      "metadata": {
        "colab": {
          "base_uri": "https://localhost:8080/"
        },
        "id": "l3cX8PHU1r2s",
        "outputId": "96fc7d90-3691-4d62-d229-2dcd4a158f28"
      },
      "execution_count": 82,
      "outputs": [
        {
          "output_type": "execute_result",
          "data": {
            "text/plain": [
              "['Name', 'ID']"
            ]
          },
          "metadata": {},
          "execution_count": 82
        }
      ]
    },
    {
      "cell_type": "code",
      "source": [
        "# select column by providing columns names \n",
        "df_spark.select('Name').show(5)"
      ],
      "metadata": {
        "colab": {
          "base_uri": "https://localhost:8080/"
        },
        "id": "evOFBBhd2Pfv",
        "outputId": "4e23615f-2302-451b-8d73-03a196a654ca"
      },
      "execution_count": 83,
      "outputs": [
        {
          "output_type": "stream",
          "name": "stdout",
          "text": [
            "+---------+\n",
            "|     Name|\n",
            "+---------+\n",
            "|    Adair|\n",
            "|    Adams|\n",
            "|Allamakee|\n",
            "|Appanoose|\n",
            "|  Audubon|\n",
            "+---------+\n",
            "only showing top 5 rows\n",
            "\n"
          ]
        }
      ]
    },
    {
      "cell_type": "code",
      "source": [
        "# check datatype of each column\n",
        "df_spark.dtypes"
      ],
      "metadata": {
        "colab": {
          "base_uri": "https://localhost:8080/"
        },
        "id": "WQEsv1-_2t0P",
        "outputId": "39dae603-9255-4c7b-bbfd-ab07f1ba8269"
      },
      "execution_count": 84,
      "outputs": [
        {
          "output_type": "execute_result",
          "data": {
            "text/plain": [
              "[('Name', 'string'), ('ID', 'int')]"
            ]
          },
          "metadata": {},
          "execution_count": 84
        }
      ]
    },
    {
      "cell_type": "code",
      "source": [
        "# descibing the dataset\n",
        "df_spark.describe().show()"
      ],
      "metadata": {
        "colab": {
          "base_uri": "https://localhost:8080/"
        },
        "id": "Q5hMiZjM3kFw",
        "outputId": "6e8b99a3-df25-4aa8-94ae-b7667c62a0b9"
      },
      "execution_count": 85,
      "outputs": [
        {
          "output_type": "stream",
          "name": "stdout",
          "text": [
            "+-------+------+------------------+\n",
            "|summary|  Name|                ID|\n",
            "+-------+------+------------------+\n",
            "|  count|    99|                99|\n",
            "|   mean|  null| 30771.23232323232|\n",
            "| stddev|  null|52888.737874675055|\n",
            "|    min| Adair|              4029|\n",
            "|    max|Wright|            430640|\n",
            "+-------+------+------------------+\n",
            "\n"
          ]
        }
      ]
    },
    {
      "cell_type": "code",
      "source": [
        "# adding column to dataframe\n",
        "df_spark=df_spark.withColumn('ID2',df_spark['ID']+2)"
      ],
      "metadata": {
        "id": "sa_SeJ423-_s"
      },
      "execution_count": 86,
      "outputs": []
    },
    {
      "cell_type": "code",
      "source": [
        "df_spark.show(5)"
      ],
      "metadata": {
        "colab": {
          "base_uri": "https://localhost:8080/"
        },
        "id": "s-yU2DV34zbP",
        "outputId": "0b5c8e99-c0e7-4bd6-c938-66a4d9d29631"
      },
      "execution_count": 87,
      "outputs": [
        {
          "output_type": "stream",
          "name": "stdout",
          "text": [
            "+---------+-----+-----+\n",
            "|     Name|   ID|  ID2|\n",
            "+---------+-----+-----+\n",
            "|    Adair| 7682| 7684|\n",
            "|    Adams| 4029| 4031|\n",
            "|Allamakee|14330|14332|\n",
            "|Appanoose|12884|12886|\n",
            "|  Audubon| 6119| 6121|\n",
            "+---------+-----+-----+\n",
            "only showing top 5 rows\n",
            "\n"
          ]
        }
      ]
    },
    {
      "cell_type": "code",
      "source": [
        "# droping columns from data frame\n",
        "df_spark=df_spark.drop('ID2')"
      ],
      "metadata": {
        "id": "N9kvedZp5Gg_"
      },
      "execution_count": 88,
      "outputs": []
    },
    {
      "cell_type": "code",
      "source": [
        "df_spark.show(5)"
      ],
      "metadata": {
        "colab": {
          "base_uri": "https://localhost:8080/"
        },
        "id": "kkkTP4Yo5hPW",
        "outputId": "314029f9-b767-47b9-e344-ba1e04877d55"
      },
      "execution_count": 89,
      "outputs": [
        {
          "output_type": "stream",
          "name": "stdout",
          "text": [
            "+---------+-----+\n",
            "|     Name|   ID|\n",
            "+---------+-----+\n",
            "|    Adair| 7682|\n",
            "|    Adams| 4029|\n",
            "|Allamakee|14330|\n",
            "|Appanoose|12884|\n",
            "|  Audubon| 6119|\n",
            "+---------+-----+\n",
            "only showing top 5 rows\n",
            "\n"
          ]
        }
      ]
    },
    {
      "cell_type": "markdown",
      "source": [
        "# **Day 2**"
      ],
      "metadata": {
        "id": "jVsbymnt_QMc"
      }
    },
    {
      "cell_type": "code",
      "source": [
        "df_spark=spark.read.csv(\"/content/drive/MyDrive/Pyspark/PYSPA.csv\",header=True, inferSchema=True)"
      ],
      "metadata": {
        "id": "eYdgCjg-_OVx"
      },
      "execution_count": 90,
      "outputs": []
    },
    {
      "cell_type": "code",
      "source": [
        "df_spark.show()"
      ],
      "metadata": {
        "colab": {
          "base_uri": "https://localhost:8080/"
        },
        "id": "5L2yutqN_mOo",
        "outputId": "45eb7b7a-70e8-4b32-fe42-5388e0c71fc4"
      },
      "execution_count": 91,
      "outputs": [
        {
          "output_type": "stream",
          "name": "stdout",
          "text": [
            "+----+----+----------+-----+\n",
            "|Name| age|Experience|Salay|\n",
            "+----+----+----------+-----+\n",
            "|   A|  31|        10|30000|\n",
            "|   B|  30|         8|25000|\n",
            "|   C|  29|         4|20000|\n",
            "|   D|  24|         3|15000|\n",
            "|   E|  21|         1|18000|\n",
            "|   F|  23|         2|40000|\n",
            "|   G|null|      null|38000|\n",
            "|null|  34|        10| null|\n",
            "|null|  36|      null| null|\n",
            "+----+----+----------+-----+\n",
            "\n"
          ]
        }
      ]
    },
    {
      "cell_type": "code",
      "source": [
        "#droping rows cointaing null value if \"how=any\" it will drop row having 1,2 or more null values in a row \n",
        "#but if \"how=all\" it will drop row having all null values assigned to all columns\n",
        "df_spark.na.drop(how=\"any\").show()"
      ],
      "metadata": {
        "colab": {
          "base_uri": "https://localhost:8080/"
        },
        "id": "kMIiyb7O5l_o",
        "outputId": "2c0a594a-cc28-4024-bb05-b5496eac2784"
      },
      "execution_count": 92,
      "outputs": [
        {
          "output_type": "stream",
          "name": "stdout",
          "text": [
            "+----+---+----------+-----+\n",
            "|Name|age|Experience|Salay|\n",
            "+----+---+----------+-----+\n",
            "|   A| 31|        10|30000|\n",
            "|   B| 30|         8|25000|\n",
            "|   C| 29|         4|20000|\n",
            "|   D| 24|         3|15000|\n",
            "|   E| 21|         1|18000|\n",
            "|   F| 23|         2|40000|\n",
            "+----+---+----------+-----+\n",
            "\n"
          ]
        }
      ]
    },
    {
      "cell_type": "code",
      "source": [
        "df_spark.show()"
      ],
      "metadata": {
        "colab": {
          "base_uri": "https://localhost:8080/"
        },
        "id": "LPEtD3cs_7hU",
        "outputId": "5343c653-59d7-415e-896b-5994e90db638"
      },
      "execution_count": 93,
      "outputs": [
        {
          "output_type": "stream",
          "name": "stdout",
          "text": [
            "+----+----+----------+-----+\n",
            "|Name| age|Experience|Salay|\n",
            "+----+----+----------+-----+\n",
            "|   A|  31|        10|30000|\n",
            "|   B|  30|         8|25000|\n",
            "|   C|  29|         4|20000|\n",
            "|   D|  24|         3|15000|\n",
            "|   E|  21|         1|18000|\n",
            "|   F|  23|         2|40000|\n",
            "|   G|null|      null|38000|\n",
            "|null|  34|        10| null|\n",
            "|null|  36|      null| null|\n",
            "+----+----+----------+-----+\n",
            "\n"
          ]
        }
      ]
    },
    {
      "cell_type": "code",
      "source": [
        "# threshold: if \"thresh=2\" it means at least two not null columns should present in a row if it is not then it will be deleted."
      ],
      "metadata": {
        "id": "oVkSdAR68WCz"
      },
      "execution_count": 94,
      "outputs": []
    },
    {
      "cell_type": "code",
      "source": [
        "df_spark.na.drop(how=\"any\",thresh=2).show()"
      ],
      "metadata": {
        "colab": {
          "base_uri": "https://localhost:8080/"
        },
        "id": "eNTj4qo08Xy7",
        "outputId": "aad24167-0bbb-473a-95b4-50cc3cb4147b"
      },
      "execution_count": 95,
      "outputs": [
        {
          "output_type": "stream",
          "name": "stdout",
          "text": [
            "+----+----+----------+-----+\n",
            "|Name| age|Experience|Salay|\n",
            "+----+----+----------+-----+\n",
            "|   A|  31|        10|30000|\n",
            "|   B|  30|         8|25000|\n",
            "|   C|  29|         4|20000|\n",
            "|   D|  24|         3|15000|\n",
            "|   E|  21|         1|18000|\n",
            "|   F|  23|         2|40000|\n",
            "|   G|null|      null|38000|\n",
            "|null|  34|        10| null|\n",
            "+----+----+----------+-----+\n",
            "\n"
          ]
        }
      ]
    },
    {
      "cell_type": "code",
      "source": [
        "#subset: if subset=['age'] the all the rows containing null in age will be deleted\n",
        "df_spark.na.drop(how=\"any\",subset=['age']).show()"
      ],
      "metadata": {
        "id": "WZN4vliJAVau",
        "colab": {
          "base_uri": "https://localhost:8080/"
        },
        "outputId": "8cc9f9b8-771b-4a2b-ea70-98a0475979a2"
      },
      "execution_count": 96,
      "outputs": [
        {
          "output_type": "stream",
          "name": "stdout",
          "text": [
            "+----+---+----------+-----+\n",
            "|Name|age|Experience|Salay|\n",
            "+----+---+----------+-----+\n",
            "|   A| 31|        10|30000|\n",
            "|   B| 30|         8|25000|\n",
            "|   C| 29|         4|20000|\n",
            "|   D| 24|         3|15000|\n",
            "|   E| 21|         1|18000|\n",
            "|   F| 23|         2|40000|\n",
            "|null| 34|        10| null|\n",
            "|null| 36|      null| null|\n",
            "+----+---+----------+-----+\n",
            "\n"
          ]
        }
      ]
    },
    {
      "cell_type": "markdown",
      "source": [
        "**filling of MIssing value**"
      ],
      "metadata": {
        "id": "te2oEIRtkm5H"
      }
    },
    {
      "cell_type": "code",
      "source": [
        "#fill takes two parameter value and subset\n",
        "df_spark.na.fill(0).show()"
      ],
      "metadata": {
        "colab": {
          "base_uri": "https://localhost:8080/"
        },
        "id": "bhaRI7DFj3FV",
        "outputId": "fc6d1b80-77ee-4657-e2b5-0aee9ced3ea2"
      },
      "execution_count": 97,
      "outputs": [
        {
          "output_type": "stream",
          "name": "stdout",
          "text": [
            "+----+---+----------+-----+\n",
            "|Name|age|Experience|Salay|\n",
            "+----+---+----------+-----+\n",
            "|   A| 31|        10|30000|\n",
            "|   B| 30|         8|25000|\n",
            "|   C| 29|         4|20000|\n",
            "|   D| 24|         3|15000|\n",
            "|   E| 21|         1|18000|\n",
            "|   F| 23|         2|40000|\n",
            "|   G|  0|         0|38000|\n",
            "|null| 34|        10|    0|\n",
            "|null| 36|         0|    0|\n",
            "+----+---+----------+-----+\n",
            "\n"
          ]
        }
      ]
    },
    {
      "cell_type": "markdown",
      "source": [
        "it is not filling name column because we are filling with integer but this is not an interger column "
      ],
      "metadata": {
        "id": "-lLz4NG_mFef"
      }
    },
    {
      "cell_type": "code",
      "source": [
        "df_spark.na.fill('Ashik').show()"
      ],
      "metadata": {
        "colab": {
          "base_uri": "https://localhost:8080/"
        },
        "id": "YLVqgouIlMEg",
        "outputId": "8bd1ffe4-35de-4295-9a9a-a2e788aa2353"
      },
      "execution_count": 98,
      "outputs": [
        {
          "output_type": "stream",
          "name": "stdout",
          "text": [
            "+-----+----+----------+-----+\n",
            "| Name| age|Experience|Salay|\n",
            "+-----+----+----------+-----+\n",
            "|    A|  31|        10|30000|\n",
            "|    B|  30|         8|25000|\n",
            "|    C|  29|         4|20000|\n",
            "|    D|  24|         3|15000|\n",
            "|    E|  21|         1|18000|\n",
            "|    F|  23|         2|40000|\n",
            "|    G|null|      null|38000|\n",
            "|Ashik|  34|        10| null|\n",
            "|Ashik|  36|      null| null|\n",
            "+-----+----+----------+-----+\n",
            "\n"
          ]
        }
      ]
    },
    {
      "cell_type": "code",
      "source": [
        "#subset=['age','Experience']\n",
        "df_spark.na.fill(0,['age','Experience']).show()"
      ],
      "metadata": {
        "colab": {
          "base_uri": "https://localhost:8080/"
        },
        "id": "8BJ7Vda-l_-f",
        "outputId": "a36adb62-0785-454d-deb5-2bc0ec5bb6e6"
      },
      "execution_count": 99,
      "outputs": [
        {
          "output_type": "stream",
          "name": "stdout",
          "text": [
            "+----+---+----------+-----+\n",
            "|Name|age|Experience|Salay|\n",
            "+----+---+----------+-----+\n",
            "|   A| 31|        10|30000|\n",
            "|   B| 30|         8|25000|\n",
            "|   C| 29|         4|20000|\n",
            "|   D| 24|         3|15000|\n",
            "|   E| 21|         1|18000|\n",
            "|   F| 23|         2|40000|\n",
            "|   G|  0|         0|38000|\n",
            "|null| 34|        10| null|\n",
            "|null| 36|         0| null|\n",
            "+----+---+----------+-----+\n",
            "\n"
          ]
        }
      ]
    },
    {
      "cell_type": "code",
      "source": [
        "# fill null values with mean,mode and median by using imputer function in pyspark\n",
        "\n",
        "from pyspark.ml.feature import Imputer\n",
        "imputer=Imputer(\n",
        "    inputCols=['age','Experience','Salay'],\n",
        "    outputCols=[\"{}_imputed\".format(c) for c in ['age','Experience','Salay']]).setStrategy(\"mean\")\n",
        "\n"
      ],
      "metadata": {
        "id": "d10qcCbLmjRb"
      },
      "execution_count": 101,
      "outputs": []
    },
    {
      "cell_type": "code",
      "source": [
        "imputer.fit(df_spark).transform(df_spark).show()"
      ],
      "metadata": {
        "colab": {
          "base_uri": "https://localhost:8080/"
        },
        "id": "nx-J9wHMqs9R",
        "outputId": "3cb4c3ff-e812-48b7-f909-b8167047b92e"
      },
      "execution_count": 102,
      "outputs": [
        {
          "output_type": "stream",
          "name": "stdout",
          "text": [
            "+----+----+----------+-----+-----------+------------------+-------------+\n",
            "|Name| age|Experience|Salay|age_imputed|Experience_imputed|Salay_imputed|\n",
            "+----+----+----------+-----+-----------+------------------+-------------+\n",
            "|   A|  31|        10|30000|         31|                10|        30000|\n",
            "|   B|  30|         8|25000|         30|                 8|        25000|\n",
            "|   C|  29|         4|20000|         29|                 4|        20000|\n",
            "|   D|  24|         3|15000|         24|                 3|        15000|\n",
            "|   E|  21|         1|18000|         21|                 1|        18000|\n",
            "|   F|  23|         2|40000|         23|                 2|        40000|\n",
            "|   G|null|      null|38000|         28|                 5|        38000|\n",
            "|null|  34|        10| null|         34|                10|        26571|\n",
            "|null|  36|      null| null|         36|                 5|        26571|\n",
            "+----+----+----------+-----+-----------+------------------+-------------+\n",
            "\n"
          ]
        }
      ]
    },
    {
      "cell_type": "markdown",
      "source": [
        "## **Filter Operations**"
      ],
      "metadata": {
        "id": "q1gDjDhGvPZB"
      }
    },
    {
      "cell_type": "code",
      "source": [
        "df_spark=df_spark.na.drop()"
      ],
      "metadata": {
        "id": "TFc132-8uxud"
      },
      "execution_count": 103,
      "outputs": []
    },
    {
      "cell_type": "code",
      "source": [
        "df_spark.show()"
      ],
      "metadata": {
        "colab": {
          "base_uri": "https://localhost:8080/"
        },
        "id": "Ibc1Pju6vu1I",
        "outputId": "9793edf1-2575-4797-de26-358fd5cff5a4"
      },
      "execution_count": 104,
      "outputs": [
        {
          "output_type": "stream",
          "name": "stdout",
          "text": [
            "+----+---+----------+-----+\n",
            "|Name|age|Experience|Salay|\n",
            "+----+---+----------+-----+\n",
            "|   A| 31|        10|30000|\n",
            "|   B| 30|         8|25000|\n",
            "|   C| 29|         4|20000|\n",
            "|   D| 24|         3|15000|\n",
            "|   E| 21|         1|18000|\n",
            "|   F| 23|         2|40000|\n",
            "+----+---+----------+-----+\n",
            "\n"
          ]
        }
      ]
    },
    {
      "cell_type": "code",
      "source": [
        "# print the table where salary is greater or equal to 20000\n",
        "df_spark.filter(\"Salay>=20000\").show()"
      ],
      "metadata": {
        "colab": {
          "base_uri": "https://localhost:8080/"
        },
        "id": "R2S6klv_vzgl",
        "outputId": "5d59c3d6-e4f4-4e9f-ab1d-208fe57741aa"
      },
      "execution_count": 106,
      "outputs": [
        {
          "output_type": "stream",
          "name": "stdout",
          "text": [
            "+----+---+----------+-----+\n",
            "|Name|age|Experience|Salay|\n",
            "+----+---+----------+-----+\n",
            "|   A| 31|        10|30000|\n",
            "|   B| 30|         8|25000|\n",
            "|   C| 29|         4|20000|\n",
            "|   F| 23|         2|40000|\n",
            "+----+---+----------+-----+\n",
            "\n"
          ]
        }
      ]
    },
    {
      "cell_type": "code",
      "source": [
        "df_spark.filter(\"Salay>=20000\").select(['Name','age']).show()"
      ],
      "metadata": {
        "colab": {
          "base_uri": "https://localhost:8080/"
        },
        "id": "UcMYwoqVwTBw",
        "outputId": "2c3b77f0-4ace-4569-ff97-46323229c632"
      },
      "execution_count": 107,
      "outputs": [
        {
          "output_type": "stream",
          "name": "stdout",
          "text": [
            "+----+---+\n",
            "|Name|age|\n",
            "+----+---+\n",
            "|   A| 31|\n",
            "|   B| 30|\n",
            "|   C| 29|\n",
            "|   F| 23|\n",
            "+----+---+\n",
            "\n"
          ]
        }
      ]
    },
    {
      "cell_type": "code",
      "source": [
        "df_spark.filter((df_spark['Salay']>=20000) & (df_spark['age']>25)).show()"
      ],
      "metadata": {
        "colab": {
          "base_uri": "https://localhost:8080/"
        },
        "id": "X-vRst3awk24",
        "outputId": "f6967462-a567-4c67-d2b8-7ef0855f89a1"
      },
      "execution_count": 108,
      "outputs": [
        {
          "output_type": "stream",
          "name": "stdout",
          "text": [
            "+----+---+----------+-----+\n",
            "|Name|age|Experience|Salay|\n",
            "+----+---+----------+-----+\n",
            "|   A| 31|        10|30000|\n",
            "|   B| 30|         8|25000|\n",
            "|   C| 29|         4|20000|\n",
            "+----+---+----------+-----+\n",
            "\n"
          ]
        }
      ]
    },
    {
      "cell_type": "code",
      "source": [
        "df_spark.filter((df_spark['Salay']>=20000) | (df_spark['age']>25)).show()"
      ],
      "metadata": {
        "colab": {
          "base_uri": "https://localhost:8080/"
        },
        "id": "vwmgFdClxVRf",
        "outputId": "3500ca61-3ef2-4cae-c7b5-9e32f7b99fb3"
      },
      "execution_count": 109,
      "outputs": [
        {
          "output_type": "stream",
          "name": "stdout",
          "text": [
            "+----+---+----------+-----+\n",
            "|Name|age|Experience|Salay|\n",
            "+----+---+----------+-----+\n",
            "|   A| 31|        10|30000|\n",
            "|   B| 30|         8|25000|\n",
            "|   C| 29|         4|20000|\n",
            "|   F| 23|         2|40000|\n",
            "+----+---+----------+-----+\n",
            "\n"
          ]
        }
      ]
    },
    {
      "cell_type": "code",
      "source": [
        "df_spark.filter(~(df_spark['Salay']>=20000)).show()"
      ],
      "metadata": {
        "colab": {
          "base_uri": "https://localhost:8080/"
        },
        "id": "SyYLTv1ZxiIS",
        "outputId": "b08db8de-0dff-4535-b89c-6bc0fec6ce48"
      },
      "execution_count": 110,
      "outputs": [
        {
          "output_type": "stream",
          "name": "stdout",
          "text": [
            "+----+---+----------+-----+\n",
            "|Name|age|Experience|Salay|\n",
            "+----+---+----------+-----+\n",
            "|   D| 24|         3|15000|\n",
            "|   E| 21|         1|18000|\n",
            "+----+---+----------+-----+\n",
            "\n"
          ]
        }
      ]
    },
    {
      "cell_type": "markdown",
      "source": [
        "## **Groupby**"
      ],
      "metadata": {
        "id": "EiemiVj41Foe"
      }
    },
    {
      "cell_type": "code",
      "source": [
        "df_spark=spark.read.csv(\"/content/drive/MyDrive/Pyspark/test.csv\",header=True, inferSchema=True)"
      ],
      "metadata": {
        "id": "h5akfCFhxz8a"
      },
      "execution_count": 111,
      "outputs": []
    },
    {
      "cell_type": "code",
      "source": [
        "df_spark.show()"
      ],
      "metadata": {
        "colab": {
          "base_uri": "https://localhost:8080/"
        },
        "id": "iBY9DSwu1PDt",
        "outputId": "dd91be7f-690a-41ea-eeb4-1e2f52116ced"
      },
      "execution_count": 112,
      "outputs": [
        {
          "output_type": "stream",
          "name": "stdout",
          "text": [
            "+----+-----------+------+\n",
            "|Name|Departments|salary|\n",
            "+----+-----------+------+\n",
            "|   K|         DS| 10000|\n",
            "|   K|        IOT|  5000|\n",
            "|   M|         BD|  4000|\n",
            "|   K|         BD|  4000|\n",
            "|   M|         DS|  3000|\n",
            "|   S|         DS| 20000|\n",
            "|   S|        IOT| 10000|\n",
            "|   S|         BD|  5000|\n",
            "|  Su|         DS| 10000|\n",
            "|  Su|         BD|  2000|\n",
            "+----+-----------+------+\n",
            "\n"
          ]
        }
      ]
    },
    {
      "cell_type": "code",
      "source": [
        ""
      ],
      "metadata": {
        "id": "1rcJDDiL1Spc"
      },
      "execution_count": null,
      "outputs": []
    }
  ]
}