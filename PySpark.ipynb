{
  "nbformat": 4,
  "nbformat_minor": 0,
  "metadata": {
    "colab": {
      "name": "PySpark.ipynb",
      "provenance": [],
      "collapsed_sections": [],
      "authorship_tag": "ABX9TyMp3DPx+1n9P1tUvEPM29P0",
      "include_colab_link": true
    },
    "kernelspec": {
      "name": "python3",
      "display_name": "Python 3"
    },
    "language_info": {
      "name": "python"
    }
  },
  "cells": [
    {
      "cell_type": "markdown",
      "metadata": {
        "id": "view-in-github",
        "colab_type": "text"
      },
      "source": [
        "<a href=\"https://colab.research.google.com/github/Ashik9576/PySpark_Learning/blob/main/PySpark.ipynb\" target=\"_parent\"><img src=\"https://colab.research.google.com/assets/colab-badge.svg\" alt=\"Open In Colab\"/></a>"
      ]
    },
    {
      "cell_type": "markdown",
      "source": [
        "# **PySpark Installation**"
      ],
      "metadata": {
        "id": "7-K7E83ygOwe"
      }
    },
    {
      "cell_type": "code",
      "source": [
        "!pip install pyspark"
      ],
      "metadata": {
        "colab": {
          "base_uri": "https://localhost:8080/"
        },
        "id": "3cl3QnASgWjC",
        "outputId": "6738491e-09f0-4c7f-cdf1-08c2b0d9e055"
      },
      "execution_count": 24,
      "outputs": [
        {
          "output_type": "stream",
          "name": "stdout",
          "text": [
            "Requirement already satisfied: pyspark in /usr/local/lib/python3.7/dist-packages (3.2.1)\n",
            "Requirement already satisfied: py4j==0.10.9.3 in /usr/local/lib/python3.7/dist-packages (from pyspark) (0.10.9.3)\n"
          ]
        }
      ]
    },
    {
      "cell_type": "code",
      "source": [
        "import pyspark"
      ],
      "metadata": {
        "id": "BCnqlvoogfUX"
      },
      "execution_count": 25,
      "outputs": []
    },
    {
      "cell_type": "code",
      "source": [
        "# mounted the drive\n",
        "from google.colab import drive\n",
        "drive.mount('/content/drive')"
      ],
      "metadata": {
        "colab": {
          "base_uri": "https://localhost:8080/"
        },
        "id": "VmJIbU4FhOKx",
        "outputId": "4a3c5248-f8cb-4866-aedd-7b91fc39897a"
      },
      "execution_count": 26,
      "outputs": [
        {
          "output_type": "stream",
          "name": "stdout",
          "text": [
            "Drive already mounted at /content/drive; to attempt to forcibly remount, call drive.mount(\"/content/drive\", force_remount=True).\n"
          ]
        }
      ]
    },
    {
      "cell_type": "code",
      "source": [
        "import pandas as pd\n",
        "df=pd.read_csv(\"/content/drive/MyDrive/Pyspark/counties.csv\")"
      ],
      "metadata": {
        "id": "2mYL1hz0glhl"
      },
      "execution_count": 27,
      "outputs": []
    },
    {
      "cell_type": "code",
      "source": [
        "df.columns=['Name','ID']"
      ],
      "metadata": {
        "id": "Dzy3RrJdh8sU"
      },
      "execution_count": 28,
      "outputs": []
    },
    {
      "cell_type": "code",
      "source": [
        "df.head()"
      ],
      "metadata": {
        "id": "RZUrkIbnh_GI",
        "colab": {
          "base_uri": "https://localhost:8080/",
          "height": 206
        },
        "outputId": "623e9435-ad56-48ac-e07a-ca10f3632c54"
      },
      "execution_count": 29,
      "outputs": [
        {
          "output_type": "execute_result",
          "data": {
            "text/plain": [
              "        Name     ID\n",
              "0      Adams   4029\n",
              "1  Allamakee  14330\n",
              "2  Appanoose  12884\n",
              "3    Audubon   6119\n",
              "4     Benton  26076"
            ],
            "text/html": [
              "\n",
              "  <div id=\"df-2e5e3aab-f97b-4277-96cc-0f5df2a3a99b\">\n",
              "    <div class=\"colab-df-container\">\n",
              "      <div>\n",
              "<style scoped>\n",
              "    .dataframe tbody tr th:only-of-type {\n",
              "        vertical-align: middle;\n",
              "    }\n",
              "\n",
              "    .dataframe tbody tr th {\n",
              "        vertical-align: top;\n",
              "    }\n",
              "\n",
              "    .dataframe thead th {\n",
              "        text-align: right;\n",
              "    }\n",
              "</style>\n",
              "<table border=\"1\" class=\"dataframe\">\n",
              "  <thead>\n",
              "    <tr style=\"text-align: right;\">\n",
              "      <th></th>\n",
              "      <th>Name</th>\n",
              "      <th>ID</th>\n",
              "    </tr>\n",
              "  </thead>\n",
              "  <tbody>\n",
              "    <tr>\n",
              "      <th>0</th>\n",
              "      <td>Adams</td>\n",
              "      <td>4029</td>\n",
              "    </tr>\n",
              "    <tr>\n",
              "      <th>1</th>\n",
              "      <td>Allamakee</td>\n",
              "      <td>14330</td>\n",
              "    </tr>\n",
              "    <tr>\n",
              "      <th>2</th>\n",
              "      <td>Appanoose</td>\n",
              "      <td>12884</td>\n",
              "    </tr>\n",
              "    <tr>\n",
              "      <th>3</th>\n",
              "      <td>Audubon</td>\n",
              "      <td>6119</td>\n",
              "    </tr>\n",
              "    <tr>\n",
              "      <th>4</th>\n",
              "      <td>Benton</td>\n",
              "      <td>26076</td>\n",
              "    </tr>\n",
              "  </tbody>\n",
              "</table>\n",
              "</div>\n",
              "      <button class=\"colab-df-convert\" onclick=\"convertToInteractive('df-2e5e3aab-f97b-4277-96cc-0f5df2a3a99b')\"\n",
              "              title=\"Convert this dataframe to an interactive table.\"\n",
              "              style=\"display:none;\">\n",
              "        \n",
              "  <svg xmlns=\"http://www.w3.org/2000/svg\" height=\"24px\"viewBox=\"0 0 24 24\"\n",
              "       width=\"24px\">\n",
              "    <path d=\"M0 0h24v24H0V0z\" fill=\"none\"/>\n",
              "    <path d=\"M18.56 5.44l.94 2.06.94-2.06 2.06-.94-2.06-.94-.94-2.06-.94 2.06-2.06.94zm-11 1L8.5 8.5l.94-2.06 2.06-.94-2.06-.94L8.5 2.5l-.94 2.06-2.06.94zm10 10l.94 2.06.94-2.06 2.06-.94-2.06-.94-.94-2.06-.94 2.06-2.06.94z\"/><path d=\"M17.41 7.96l-1.37-1.37c-.4-.4-.92-.59-1.43-.59-.52 0-1.04.2-1.43.59L10.3 9.45l-7.72 7.72c-.78.78-.78 2.05 0 2.83L4 21.41c.39.39.9.59 1.41.59.51 0 1.02-.2 1.41-.59l7.78-7.78 2.81-2.81c.8-.78.8-2.07 0-2.86zM5.41 20L4 18.59l7.72-7.72 1.47 1.35L5.41 20z\"/>\n",
              "  </svg>\n",
              "      </button>\n",
              "      \n",
              "  <style>\n",
              "    .colab-df-container {\n",
              "      display:flex;\n",
              "      flex-wrap:wrap;\n",
              "      gap: 12px;\n",
              "    }\n",
              "\n",
              "    .colab-df-convert {\n",
              "      background-color: #E8F0FE;\n",
              "      border: none;\n",
              "      border-radius: 50%;\n",
              "      cursor: pointer;\n",
              "      display: none;\n",
              "      fill: #1967D2;\n",
              "      height: 32px;\n",
              "      padding: 0 0 0 0;\n",
              "      width: 32px;\n",
              "    }\n",
              "\n",
              "    .colab-df-convert:hover {\n",
              "      background-color: #E2EBFA;\n",
              "      box-shadow: 0px 1px 2px rgba(60, 64, 67, 0.3), 0px 1px 3px 1px rgba(60, 64, 67, 0.15);\n",
              "      fill: #174EA6;\n",
              "    }\n",
              "\n",
              "    [theme=dark] .colab-df-convert {\n",
              "      background-color: #3B4455;\n",
              "      fill: #D2E3FC;\n",
              "    }\n",
              "\n",
              "    [theme=dark] .colab-df-convert:hover {\n",
              "      background-color: #434B5C;\n",
              "      box-shadow: 0px 1px 3px 1px rgba(0, 0, 0, 0.15);\n",
              "      filter: drop-shadow(0px 1px 2px rgba(0, 0, 0, 0.3));\n",
              "      fill: #FFFFFF;\n",
              "    }\n",
              "  </style>\n",
              "\n",
              "      <script>\n",
              "        const buttonEl =\n",
              "          document.querySelector('#df-2e5e3aab-f97b-4277-96cc-0f5df2a3a99b button.colab-df-convert');\n",
              "        buttonEl.style.display =\n",
              "          google.colab.kernel.accessAllowed ? 'block' : 'none';\n",
              "\n",
              "        async function convertToInteractive(key) {\n",
              "          const element = document.querySelector('#df-2e5e3aab-f97b-4277-96cc-0f5df2a3a99b');\n",
              "          const dataTable =\n",
              "            await google.colab.kernel.invokeFunction('convertToInteractive',\n",
              "                                                     [key], {});\n",
              "          if (!dataTable) return;\n",
              "\n",
              "          const docLinkHtml = 'Like what you see? Visit the ' +\n",
              "            '<a target=\"_blank\" href=https://colab.research.google.com/notebooks/data_table.ipynb>data table notebook</a>'\n",
              "            + ' to learn more about interactive tables.';\n",
              "          element.innerHTML = '';\n",
              "          dataTable['output_type'] = 'display_data';\n",
              "          await google.colab.output.renderOutput(dataTable, element);\n",
              "          const docLink = document.createElement('div');\n",
              "          docLink.innerHTML = docLinkHtml;\n",
              "          element.appendChild(docLink);\n",
              "        }\n",
              "      </script>\n",
              "    </div>\n",
              "  </div>\n",
              "  "
            ]
          },
          "metadata": {},
          "execution_count": 29
        }
      ]
    },
    {
      "cell_type": "markdown",
      "source": [
        "# **Reading file in Spark**\n"
      ],
      "metadata": {
        "id": "2cwUfSOlix7u"
      }
    },
    {
      "cell_type": "markdown",
      "source": [
        "**firstly I have to creat a spark session**"
      ],
      "metadata": {
        "id": "4nb_zNKLi_tE"
      }
    },
    {
      "cell_type": "code",
      "source": [
        "from pyspark.sql import SparkSession"
      ],
      "metadata": {
        "id": "v7He9fk9ivF8"
      },
      "execution_count": 30,
      "outputs": []
    },
    {
      "cell_type": "code",
      "source": [
        "spark=SparkSession.builder.appName('Ashik').getOrCreate()"
      ],
      "metadata": {
        "id": "WASytNkDjVhN"
      },
      "execution_count": 31,
      "outputs": []
    },
    {
      "cell_type": "code",
      "source": [
        "spark"
      ],
      "metadata": {
        "colab": {
          "base_uri": "https://localhost:8080/",
          "height": 219
        },
        "id": "jytvsKAojrBv",
        "outputId": "96dc069a-e78d-4afc-8f22-9808cdaa144d"
      },
      "execution_count": 32,
      "outputs": [
        {
          "output_type": "execute_result",
          "data": {
            "text/plain": [
              "<pyspark.sql.session.SparkSession at 0x7f54487fedd0>"
            ],
            "text/html": [
              "\n",
              "            <div>\n",
              "                <p><b>SparkSession - in-memory</b></p>\n",
              "                \n",
              "        <div>\n",
              "            <p><b>SparkContext</b></p>\n",
              "\n",
              "            <p><a href=\"http://a10927b189a0:4040\">Spark UI</a></p>\n",
              "\n",
              "            <dl>\n",
              "              <dt>Version</dt>\n",
              "                <dd><code>v3.2.1</code></dd>\n",
              "              <dt>Master</dt>\n",
              "                <dd><code>local[*]</code></dd>\n",
              "              <dt>AppName</dt>\n",
              "                <dd><code>Ashik</code></dd>\n",
              "            </dl>\n",
              "        </div>\n",
              "        \n",
              "            </div>\n",
              "        "
            ]
          },
          "metadata": {},
          "execution_count": 32
        }
      ]
    },
    {
      "cell_type": "code",
      "source": [
        "df_spark=spark.read.csv(\"/content/drive/MyDrive/Pyspark/counties.csv\")"
      ],
      "metadata": {
        "id": "cTRLinpSjvD0"
      },
      "execution_count": 33,
      "outputs": []
    },
    {
      "cell_type": "code",
      "source": [
        "df_spark.show()"
      ],
      "metadata": {
        "colab": {
          "base_uri": "https://localhost:8080/"
        },
        "id": "q4l7hR2Hj_5V",
        "outputId": "3c4e489d-83b6-4457-8a2e-940db20d331c"
      },
      "execution_count": 34,
      "outputs": [
        {
          "output_type": "stream",
          "name": "stdout",
          "text": [
            "+-----------+------+\n",
            "|        _c0|   _c1|\n",
            "+-----------+------+\n",
            "|      Adair|  7682|\n",
            "|      Adams|  4029|\n",
            "|  Allamakee| 14330|\n",
            "|  Appanoose| 12884|\n",
            "|    Audubon|  6119|\n",
            "|     Benton| 26076|\n",
            "| Black Hawk|131090|\n",
            "|      Boone| 26306|\n",
            "|     Bremer| 24276|\n",
            "|   Buchanan| 20958|\n",
            "|Buena Vista| 20260|\n",
            "|     Butler| 14867|\n",
            "|    Calhoun|  9670|\n",
            "|    Carroll| 20816|\n",
            "|       Cass| 13956|\n",
            "|      Cedar| 18499|\n",
            "|Cerro Gordo| 44151|\n",
            "|   Cherokee| 12072|\n",
            "|  Chickasaw| 12439|\n",
            "|     Clarke|  9286|\n",
            "+-----------+------+\n",
            "only showing top 20 rows\n",
            "\n"
          ]
        }
      ]
    },
    {
      "cell_type": "markdown",
      "source": [
        "# **Changing the columns name**"
      ],
      "metadata": {
        "id": "EKmyqpxNyCJI"
      }
    },
    {
      "cell_type": "code",
      "source": [
        "df_spark=df_spark.withColumnRenamed(\"_c0\",\"Name\")\\\n",
        " .withColumnRenamed(\"_c1\",\"ID\")"
      ],
      "metadata": {
        "id": "iyRVoIkrkP3r"
      },
      "execution_count": 38,
      "outputs": []
    },
    {
      "cell_type": "code",
      "source": [
        "df_spark.show(5)"
      ],
      "metadata": {
        "colab": {
          "base_uri": "https://localhost:8080/"
        },
        "id": "lZAky_qSxmlu",
        "outputId": "fef69fd8-fc14-456c-9db9-3c69f8a1242c"
      },
      "execution_count": 39,
      "outputs": [
        {
          "output_type": "stream",
          "name": "stdout",
          "text": [
            "+---------+-----+\n",
            "|     Name|   ID|\n",
            "+---------+-----+\n",
            "|    Adair| 7682|\n",
            "|    Adams| 4029|\n",
            "|Allamakee|14330|\n",
            "|Appanoose|12884|\n",
            "|  Audubon| 6119|\n",
            "+---------+-----+\n",
            "only showing top 5 rows\n",
            "\n"
          ]
        }
      ]
    },
    {
      "cell_type": "code",
      "source": [
        "df_spark.printSchema()"
      ],
      "metadata": {
        "colab": {
          "base_uri": "https://localhost:8080/"
        },
        "id": "CwYwbv-_yJwP",
        "outputId": "cbdc92a5-f819-4573-89a1-324f190f2490"
      },
      "execution_count": 40,
      "outputs": [
        {
          "output_type": "stream",
          "name": "stdout",
          "text": [
            "root\n",
            " |-- Name: string (nullable = true)\n",
            " |-- ID: string (nullable = true)\n",
            "\n"
          ]
        }
      ]
    },
    {
      "cell_type": "markdown",
      "source": [
        "My Id column is integer but it is showing string because it takes every column as string to handle it we will pass \"inferScheme=True\" while reading the dataset"
      ],
      "metadata": {
        "id": "Xt1hi3zD0NKC"
      }
    },
    {
      "cell_type": "code",
      "source": [
        "df_spark=spark.read.csv(\"/content/drive/MyDrive/Pyspark/counties.csv\",inferSchema=True)"
      ],
      "metadata": {
        "id": "RzzXs2Xe0zBJ"
      },
      "execution_count": 43,
      "outputs": []
    },
    {
      "cell_type": "code",
      "source": [
        "df_spark=df_spark.withColumnRenamed(\"_c0\",\"Name\")\\\n",
        " .withColumnRenamed(\"_c1\",\"ID\")"
      ],
      "metadata": {
        "id": "fI6E471d1ByM"
      },
      "execution_count": 44,
      "outputs": []
    },
    {
      "cell_type": "code",
      "source": [
        "# checking the datatype of columns\n",
        "df_spark.printSchema()"
      ],
      "metadata": {
        "colab": {
          "base_uri": "https://localhost:8080/"
        },
        "id": "Ir4siGe_1E93",
        "outputId": "bf411cfc-3b46-4734-a1f4-7849fd7a8fd7"
      },
      "execution_count": 45,
      "outputs": [
        {
          "output_type": "stream",
          "name": "stdout",
          "text": [
            "root\n",
            " |-- Name: string (nullable = true)\n",
            " |-- ID: integer (nullable = true)\n",
            "\n"
          ]
        }
      ]
    },
    {
      "cell_type": "markdown",
      "source": [
        "Now it showing integer type for ID"
      ],
      "metadata": {
        "id": "iSORj-Gm1JZy"
      }
    },
    {
      "cell_type": "code",
      "source": [
        "# checking for first 3 rows\n",
        "df_spark.head(3)"
      ],
      "metadata": {
        "colab": {
          "base_uri": "https://localhost:8080/"
        },
        "id": "USzsvv-JylvP",
        "outputId": "1d987f3d-c209-4c86-bb27-1138cd51e38a"
      },
      "execution_count": 46,
      "outputs": [
        {
          "output_type": "execute_result",
          "data": {
            "text/plain": [
              "[Row(Name='Adair', ID=7682),\n",
              " Row(Name='Adams', ID=4029),\n",
              " Row(Name='Allamakee', ID=14330)]"
            ]
          },
          "metadata": {},
          "execution_count": 46
        }
      ]
    },
    {
      "cell_type": "code",
      "source": [
        "#to check the type of variable_name \n",
        "type(df_spark)"
      ],
      "metadata": {
        "colab": {
          "base_uri": "https://localhost:8080/"
        },
        "id": "qNgOk7frysFn",
        "outputId": "e9e0e84b-73ff-4e4b-f0cf-6408ff6de63e"
      },
      "execution_count": 47,
      "outputs": [
        {
          "output_type": "execute_result",
          "data": {
            "text/plain": [
              "pyspark.sql.dataframe.DataFrame"
            ]
          },
          "metadata": {},
          "execution_count": 47
        }
      ]
    },
    {
      "cell_type": "code",
      "source": [
        "# to check the all columns name\n",
        "df_spark.columns"
      ],
      "metadata": {
        "colab": {
          "base_uri": "https://localhost:8080/"
        },
        "id": "l3cX8PHU1r2s",
        "outputId": "9f709c3f-1796-4225-afba-c32f19e77748"
      },
      "execution_count": 48,
      "outputs": [
        {
          "output_type": "execute_result",
          "data": {
            "text/plain": [
              "['Name', 'ID']"
            ]
          },
          "metadata": {},
          "execution_count": 48
        }
      ]
    },
    {
      "cell_type": "code",
      "source": [
        "# select column by providing columns names \n",
        "df_spark.select('Name').show(5)"
      ],
      "metadata": {
        "colab": {
          "base_uri": "https://localhost:8080/"
        },
        "id": "evOFBBhd2Pfv",
        "outputId": "abb5ada3-4b5f-4043-b00b-b6e88d86be42"
      },
      "execution_count": 51,
      "outputs": [
        {
          "output_type": "stream",
          "name": "stdout",
          "text": [
            "+---------+\n",
            "|     Name|\n",
            "+---------+\n",
            "|    Adair|\n",
            "|    Adams|\n",
            "|Allamakee|\n",
            "|Appanoose|\n",
            "|  Audubon|\n",
            "+---------+\n",
            "only showing top 5 rows\n",
            "\n"
          ]
        }
      ]
    },
    {
      "cell_type": "code",
      "source": [
        "# check datatype of each column\n",
        "df_spark.dtypes"
      ],
      "metadata": {
        "colab": {
          "base_uri": "https://localhost:8080/"
        },
        "id": "WQEsv1-_2t0P",
        "outputId": "19b7bb29-6768-4210-cc24-3e91de717f6c"
      },
      "execution_count": 55,
      "outputs": [
        {
          "output_type": "execute_result",
          "data": {
            "text/plain": [
              "[('Name', 'string'), ('ID', 'int')]"
            ]
          },
          "metadata": {},
          "execution_count": 55
        }
      ]
    },
    {
      "cell_type": "code",
      "source": [
        "# descibing the dataset\n",
        "df_spark.describe().show()"
      ],
      "metadata": {
        "colab": {
          "base_uri": "https://localhost:8080/"
        },
        "id": "Q5hMiZjM3kFw",
        "outputId": "9c8f7998-a61d-4b72-8385-123ec0f6859c"
      },
      "execution_count": 57,
      "outputs": [
        {
          "output_type": "stream",
          "name": "stdout",
          "text": [
            "+-------+------+------------------+\n",
            "|summary|  Name|                ID|\n",
            "+-------+------+------------------+\n",
            "|  count|    99|                99|\n",
            "|   mean|  null| 30771.23232323232|\n",
            "| stddev|  null|52888.737874675055|\n",
            "|    min| Adair|              4029|\n",
            "|    max|Wright|            430640|\n",
            "+-------+------+------------------+\n",
            "\n"
          ]
        }
      ]
    },
    {
      "cell_type": "code",
      "source": [
        "# adding column to dataframe\n",
        "df_spark=df_spark.withColumn('ID2',df_spark['ID']+2)"
      ],
      "metadata": {
        "id": "sa_SeJ423-_s"
      },
      "execution_count": 61,
      "outputs": []
    },
    {
      "cell_type": "code",
      "source": [
        "df_spark.show(5)"
      ],
      "metadata": {
        "colab": {
          "base_uri": "https://localhost:8080/"
        },
        "id": "s-yU2DV34zbP",
        "outputId": "df68bea9-839b-49f5-93da-918bfe797120"
      },
      "execution_count": 62,
      "outputs": [
        {
          "output_type": "stream",
          "name": "stdout",
          "text": [
            "+---------+-----+-----+\n",
            "|     Name|   ID|  ID2|\n",
            "+---------+-----+-----+\n",
            "|    Adair| 7682| 7684|\n",
            "|    Adams| 4029| 4031|\n",
            "|Allamakee|14330|14332|\n",
            "|Appanoose|12884|12886|\n",
            "|  Audubon| 6119| 6121|\n",
            "+---------+-----+-----+\n",
            "only showing top 5 rows\n",
            "\n"
          ]
        }
      ]
    },
    {
      "cell_type": "code",
      "source": [
        "# droping columns from data frame\n",
        "df_spark=df_spark.drop('ID2')"
      ],
      "metadata": {
        "id": "N9kvedZp5Gg_"
      },
      "execution_count": 64,
      "outputs": []
    },
    {
      "cell_type": "code",
      "source": [
        "df_spark.show(5)"
      ],
      "metadata": {
        "colab": {
          "base_uri": "https://localhost:8080/"
        },
        "id": "kkkTP4Yo5hPW",
        "outputId": "6bbfc31c-e8ee-4f9f-c39d-eccb56d5f270"
      },
      "execution_count": 65,
      "outputs": [
        {
          "output_type": "stream",
          "name": "stdout",
          "text": [
            "+---------+-----+\n",
            "|     Name|   ID|\n",
            "+---------+-----+\n",
            "|    Adair| 7682|\n",
            "|    Adams| 4029|\n",
            "|Allamakee|14330|\n",
            "|Appanoose|12884|\n",
            "|  Audubon| 6119|\n",
            "+---------+-----+\n",
            "only showing top 5 rows\n",
            "\n"
          ]
        }
      ]
    },
    {
      "cell_type": "markdown",
      "source": [
        "# **Day 2**"
      ],
      "metadata": {
        "id": "jVsbymnt_QMc"
      }
    },
    {
      "cell_type": "code",
      "source": [
        "df_spark=spark.read.csv(\"/content/drive/MyDrive/Pyspark/PYSPA.csv\",header=True, inferSchema=True)"
      ],
      "metadata": {
        "id": "eYdgCjg-_OVx"
      },
      "execution_count": 80,
      "outputs": []
    },
    {
      "cell_type": "code",
      "source": [
        "df_spark.show()"
      ],
      "metadata": {
        "colab": {
          "base_uri": "https://localhost:8080/"
        },
        "id": "5L2yutqN_mOo",
        "outputId": "00f5247a-49e7-48ef-d1cb-d7e690355c8a"
      },
      "execution_count": 81,
      "outputs": [
        {
          "output_type": "stream",
          "name": "stdout",
          "text": [
            "+----+----+----------+-----+\n",
            "|Name| age|Experience|Salay|\n",
            "+----+----+----------+-----+\n",
            "|   A|  31|        10|30000|\n",
            "|   B|  30|         8|25000|\n",
            "|   C|  29|         4|20000|\n",
            "|   D|  24|         3|15000|\n",
            "|   E|  21|         1|18000|\n",
            "|   F|  23|         2|40000|\n",
            "|   G|null|      null|38000|\n",
            "|null|  34|        10| null|\n",
            "|null|  36|      null| null|\n",
            "+----+----+----------+-----+\n",
            "\n"
          ]
        }
      ]
    },
    {
      "cell_type": "code",
      "source": [
        "#droping rows cointaing null value if \"how=any\" it will drop row having 1,2 or more null values in a row \n",
        "#but if \"how=all\" it will drop row having all null values assigned to all columns\n",
        "df_spark.na.drop(how=\"any\").show()"
      ],
      "metadata": {
        "colab": {
          "base_uri": "https://localhost:8080/"
        },
        "id": "kMIiyb7O5l_o",
        "outputId": "985a0b83-26d5-4276-ca6a-7eb6f0227ed8"
      },
      "execution_count": 82,
      "outputs": [
        {
          "output_type": "stream",
          "name": "stdout",
          "text": [
            "+----+---+----------+-----+\n",
            "|Name|age|Experience|Salay|\n",
            "+----+---+----------+-----+\n",
            "|   A| 31|        10|30000|\n",
            "|   B| 30|         8|25000|\n",
            "|   C| 29|         4|20000|\n",
            "|   D| 24|         3|15000|\n",
            "|   E| 21|         1|18000|\n",
            "|   F| 23|         2|40000|\n",
            "+----+---+----------+-----+\n",
            "\n"
          ]
        }
      ]
    },
    {
      "cell_type": "code",
      "source": [
        "df_spark.show()"
      ],
      "metadata": {
        "colab": {
          "base_uri": "https://localhost:8080/"
        },
        "id": "LPEtD3cs_7hU",
        "outputId": "77c2608f-b416-4d46-8bd4-120715141450"
      },
      "execution_count": 83,
      "outputs": [
        {
          "output_type": "stream",
          "name": "stdout",
          "text": [
            "+----+----+----------+-----+\n",
            "|Name| age|Experience|Salay|\n",
            "+----+----+----------+-----+\n",
            "|   A|  31|        10|30000|\n",
            "|   B|  30|         8|25000|\n",
            "|   C|  29|         4|20000|\n",
            "|   D|  24|         3|15000|\n",
            "|   E|  21|         1|18000|\n",
            "|   F|  23|         2|40000|\n",
            "|   G|null|      null|38000|\n",
            "|null|  34|        10| null|\n",
            "|null|  36|      null| null|\n",
            "+----+----+----------+-----+\n",
            "\n"
          ]
        }
      ]
    },
    {
      "cell_type": "code",
      "source": [
        "# threshold: if \"thresh=2\" it means at least two not null columns in a row if it is not then it will be deleted."
      ],
      "metadata": {
        "id": "oVkSdAR68WCz"
      },
      "execution_count": 76,
      "outputs": []
    },
    {
      "cell_type": "code",
      "source": [
        "df_spark.na.drop(how=\"any\",thresh=2).show()"
      ],
      "metadata": {
        "colab": {
          "base_uri": "https://localhost:8080/"
        },
        "id": "eNTj4qo08Xy7",
        "outputId": "7e96c411-2592-4ddb-d268-5019c596ce2b"
      },
      "execution_count": 84,
      "outputs": [
        {
          "output_type": "stream",
          "name": "stdout",
          "text": [
            "+----+----+----------+-----+\n",
            "|Name| age|Experience|Salay|\n",
            "+----+----+----------+-----+\n",
            "|   A|  31|        10|30000|\n",
            "|   B|  30|         8|25000|\n",
            "|   C|  29|         4|20000|\n",
            "|   D|  24|         3|15000|\n",
            "|   E|  21|         1|18000|\n",
            "|   F|  23|         2|40000|\n",
            "|   G|null|      null|38000|\n",
            "|null|  34|        10| null|\n",
            "+----+----+----------+-----+\n",
            "\n"
          ]
        }
      ]
    },
    {
      "cell_type": "code",
      "source": [
        ""
      ],
      "metadata": {
        "id": "WZN4vliJAVau"
      },
      "execution_count": null,
      "outputs": []
    }
  ]
}